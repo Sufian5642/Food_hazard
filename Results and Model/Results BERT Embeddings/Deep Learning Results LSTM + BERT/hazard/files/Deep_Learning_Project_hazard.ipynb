{
  "nbformat": 4,
  "nbformat_minor": 0,
  "metadata": {
    "colab": {
      "provenance": [],
      "gpuType": "T4"
    },
    "kernelspec": {
      "name": "python3",
      "display_name": "Python 3"
    },
    "language_info": {
      "name": "python"
    },
    "accelerator": "GPU"
  },
  "cells": [
    {
      "cell_type": "code",
      "source": [
        "import pandas as pd\n",
        "import pickle\n",
        "import numpy as np\n",
        "from sklearn.model_selection import train_test_split\n",
        "from sklearn.metrics import f1_score, precision_score, recall_score, accuracy_score\n",
        "from sklearn.preprocessing import LabelEncoder\n",
        "import torch\n",
        "from torch.utils.data import Dataset, DataLoader\n",
        "import torch.nn as nn\n",
        "import torch.optim as optim\n",
        "from sklearn.metrics import f1_score\n",
        "from sklearn.metrics import confusion_matrix, ConfusionMatrixDisplay\n",
        "import matplotlib.pyplot as plt\n",
        "import seaborn as sns\n",
        "import torch.nn.functional as F\n"
      ],
      "metadata": {
        "id": "WFbXTqPyH9Rv"
      },
      "execution_count": 86,
      "outputs": []
    },
    {
      "cell_type": "code",
      "source": [
        "train_emb_path = '/content/roberta_embeddings_train.pkl'\n",
        "test_emb_path = '/content/roberta_embeddings_test.pkl'\n",
        "train_labels_path = '/content/incidents_train_clean_excel.xlsx'\n",
        "test_labels_path = '/content/incidents_test_clean_excel.xlsx'"
      ],
      "metadata": {
        "id": "9siIqlKoIAoj"
      },
      "execution_count": 87,
      "outputs": []
    },
    {
      "cell_type": "code",
      "source": [
        "def load_embeddings(path):\n",
        "    with open(path, 'rb') as f:\n",
        "        return pickle.load(f)"
      ],
      "metadata": {
        "id": "ldzx1MdPIy-h"
      },
      "execution_count": 88,
      "outputs": []
    },
    {
      "cell_type": "code",
      "source": [
        "X = load_embeddings(train_emb_path)"
      ],
      "metadata": {
        "id": "n97fdRUkO5Yj"
      },
      "execution_count": 89,
      "outputs": []
    },
    {
      "cell_type": "code",
      "source": [
        "X_embed = np.array([np.array(emb, dtype=np.float32) for emb in X])\n"
      ],
      "metadata": {
        "id": "nxe3quCkI9EC"
      },
      "execution_count": 90,
      "outputs": []
    },
    {
      "cell_type": "code",
      "source": [
        "# --- Load the labels ---\n",
        "X_label = pd.read_excel(train_labels_path)\n"
      ],
      "metadata": {
        "id": "p9SpEVYRO8F6"
      },
      "execution_count": 91,
      "outputs": []
    },
    {
      "cell_type": "code",
      "source": [
        "len(X_label[\"hazard\"].unique())"
      ],
      "metadata": {
        "colab": {
          "base_uri": "https://localhost:8080/"
        },
        "id": "_PtYc-QQJzrM",
        "outputId": "a1a59607-98ad-404e-b9af-14c39b3c6a63"
      },
      "execution_count": 92,
      "outputs": [
        {
          "output_type": "execute_result",
          "data": {
            "text/plain": [
              "130"
            ]
          },
          "metadata": {},
          "execution_count": 92
        }
      ]
    },
    {
      "cell_type": "code",
      "source": [
        "X_embed.shape"
      ],
      "metadata": {
        "colab": {
          "base_uri": "https://localhost:8080/"
        },
        "id": "WXMnZKaXQzCW",
        "outputId": "e8ce852d-f402-4828-80e2-c03cd0ca6cf7"
      },
      "execution_count": 94,
      "outputs": [
        {
          "output_type": "execute_result",
          "data": {
            "text/plain": [
              "(5084, 1024)"
            ]
          },
          "metadata": {},
          "execution_count": 94
        }
      ]
    },
    {
      "cell_type": "markdown",
      "source": [
        "**Hazard**"
      ],
      "metadata": {
        "id": "lraus9BPJ7T1"
      }
    },
    {
      "cell_type": "code",
      "execution_count": 95,
      "metadata": {
        "id": "x65jBPs8GogW"
      },
      "outputs": [],
      "source": [
        "X_labels = X_label[\"hazard\"]"
      ]
    },
    {
      "cell_type": "code",
      "source": [
        "X_train, X_test, y_train, y_test = train_test_split(X_embed, X_labels, test_size=0.2, random_state=42)\n"
      ],
      "metadata": {
        "id": "t0RYTmv3pAdb"
      },
      "execution_count": 96,
      "outputs": []
    },
    {
      "cell_type": "code",
      "source": [
        "# Now X_train, y_train, X_test, y_test are ready\n",
        "print(\"Train shape:\", X_train.shape, y_train.shape)\n",
        "print(\"Test shape:\", X_test.shape, y_test.shape)"
      ],
      "metadata": {
        "colab": {
          "base_uri": "https://localhost:8080/"
        },
        "id": "x5RE484mo-fs",
        "outputId": "4827a6db-dc2e-46a9-eceb-9e9447668b39"
      },
      "execution_count": 97,
      "outputs": [
        {
          "output_type": "stream",
          "name": "stdout",
          "text": [
            "Train shape: (4067, 1024) (4067,)\n",
            "Test shape: (1017, 1024) (1017,)\n"
          ]
        }
      ]
    },
    {
      "cell_type": "code",
      "source": [
        "label_encoder = LabelEncoder()\n",
        "y_train = label_encoder.fit_transform(y_train)\n",
        "y_test = label_encoder.fit_transform(y_test)"
      ],
      "metadata": {
        "id": "Rj5tm40gPR0e"
      },
      "execution_count": 98,
      "outputs": []
    },
    {
      "cell_type": "code",
      "source": [
        "# Now X_train, y_train, X_test, y_test are ready\n",
        "print(\"Train shape:\", X_train.shape, y_train.shape)\n",
        "print(\"Test shape:\", X_test.shape, y_test.shape)"
      ],
      "metadata": {
        "colab": {
          "base_uri": "https://localhost:8080/"
        },
        "id": "0w2pFK6CRC6a",
        "outputId": "14759613-dfff-4dba-f939-eded24435b92"
      },
      "execution_count": 99,
      "outputs": [
        {
          "output_type": "stream",
          "name": "stdout",
          "text": [
            "Train shape: (4067, 1024) (4067,)\n",
            "Test shape: (1017, 1024) (1017,)\n"
          ]
        }
      ]
    },
    {
      "cell_type": "code",
      "source": [
        "class EmbeddingDataset(Dataset):\n",
        "    def __init__(self, embeddings, labels):\n",
        "        self.embeddings = torch.tensor(embeddings, dtype=torch.float32)\n",
        "        self.labels = torch.tensor(labels, dtype=torch.long)\n",
        "\n",
        "    def __len__(self):\n",
        "        return len(self.embeddings)\n",
        "\n",
        "    def __getitem__(self, idx):\n",
        "        return self.embeddings[idx], self.labels[idx]\n"
      ],
      "metadata": {
        "id": "7pfTIBc5KMk9"
      },
      "execution_count": 100,
      "outputs": []
    },
    {
      "cell_type": "code",
      "source": [
        "train_dataset = EmbeddingDataset(X_train, y_train)\n",
        "test_dataset = EmbeddingDataset(X_test, y_test)\n"
      ],
      "metadata": {
        "id": "QOgjOE6VL4DW"
      },
      "execution_count": 101,
      "outputs": []
    },
    {
      "cell_type": "code",
      "source": [
        "train_loader = DataLoader(train_dataset, batch_size=32, shuffle=True)\n",
        "test_loader = DataLoader(test_dataset, batch_size=32)"
      ],
      "metadata": {
        "id": "I1LJqn1AL6IP"
      },
      "execution_count": 102,
      "outputs": []
    },
    {
      "cell_type": "code",
      "source": [
        "import torch\n",
        "import torch.nn as nn\n",
        "\n",
        "class LSTMTextClassifier(nn.Module):\n",
        "    def __init__(self, input_size=1024, hidden_size=6, num_layers=1, num_classes=130, dropout=0.1):\n",
        "        super(LSTMTextClassifier, self).__init__()\n",
        "\n",
        "        self.lstm = nn.LSTM(\n",
        "            input_size=input_size,\n",
        "            hidden_size=hidden_size,\n",
        "            num_layers=num_layers,\n",
        "            dropout=dropout if num_layers > 1 else 0.0,\n",
        "            batch_first=True,\n",
        "            bidirectional=True\n",
        "        )\n",
        "\n",
        "        self.fc = nn.Linear(hidden_size * 2, num_classes)  # hidden*2 because of bidirectional\n",
        "        self.dropout = nn.Dropout(dropout)\n",
        "\n",
        "    def forward(self, x):\n",
        "        output, _ = self.lstm(x)\n",
        "        last_output = output[:, -1, :]\n",
        "        out = self.dropout(last_output)\n",
        "        out = self.fc(out)\n",
        "        return out\n",
        "\n",
        "\n"
      ],
      "metadata": {
        "id": "3XAYS-ZCRgDg"
      },
      "execution_count": 122,
      "outputs": []
    },
    {
      "cell_type": "code",
      "source": [],
      "metadata": {
        "id": "5G3dOl-gfSJ6"
      },
      "execution_count": null,
      "outputs": []
    },
    {
      "cell_type": "code",
      "source": [
        "# Model initialization\n",
        "model = LSTMTextClassifier()\n",
        "# Loss function (CrossEntropy for multi-class classification)\n",
        "criterion = nn.CrossEntropyLoss()\n",
        "\n",
        "# Optimizer (Adam optimizer)\n",
        "optimizer = optim.Adam(model.parameters(), lr=0.001, weight_decay=1e-5)\n",
        "torch.nn.utils.clip_grad_norm_(model.parameters(), max_norm=1.0)\n",
        "\n",
        "# 4. Training loop\n",
        "epochs = 20  # Set the number of epochs\n",
        "\n",
        "# Move the model to GPU if available\n",
        "device = torch.device(\"cuda\" if torch.cuda.is_available() else \"cpu\")\n",
        "model.to(device)"
      ],
      "metadata": {
        "colab": {
          "base_uri": "https://localhost:8080/"
        },
        "id": "qFT11_Q1TJUa",
        "outputId": "63dc5535-0812-4a3b-a0de-856b60b8fe1d"
      },
      "execution_count": 123,
      "outputs": [
        {
          "output_type": "execute_result",
          "data": {
            "text/plain": [
              "LSTMTextClassifier(\n",
              "  (lstm): LSTM(1024, 6, batch_first=True, bidirectional=True)\n",
              "  (fc): Linear(in_features=12, out_features=130, bias=True)\n",
              "  (dropout): Dropout(p=0.1, inplace=False)\n",
              ")"
            ]
          },
          "metadata": {},
          "execution_count": 123
        }
      ]
    },
    {
      "cell_type": "code",
      "source": [
        "def count_parameters(model):\n",
        "    return sum(p.numel() for p in model.parameters())\n",
        "\n",
        "# Print the total number of parameters\n",
        "print(f\"Total number of parameters: {count_parameters(model)}\")"
      ],
      "metadata": {
        "colab": {
          "base_uri": "https://localhost:8080/"
        },
        "id": "R1BlA8441AeH",
        "outputId": "9eefcd15-0bba-4228-ccb4-93e4b8d6be8a"
      },
      "execution_count": 124,
      "outputs": [
        {
          "output_type": "stream",
          "name": "stdout",
          "text": [
            "Total number of parameters: 51226\n"
          ]
        }
      ]
    },
    {
      "cell_type": "code",
      "source": [
        "train_losses = []\n",
        "test_losses = []"
      ],
      "metadata": {
        "id": "DVUOAAn3V8v8"
      },
      "execution_count": 125,
      "outputs": []
    },
    {
      "cell_type": "code",
      "source": [
        "for epoch in range(epochs):\n",
        "    model.train()  # Set the model to training mode\n",
        "    running_loss = 0.0\n",
        "\n",
        "    for inputs, labels in train_loader:\n",
        "        inputs, labels = inputs.to(device), labels.to(device)\n",
        "\n",
        "        # Add a dummy sequence length for LSTM input: (batch_size, seq_len=1, input_size)\n",
        "        inputs = inputs.unsqueeze(1)\n",
        "\n",
        "        optimizer.zero_grad()\n",
        "        outputs = model(inputs)\n",
        "        loss = criterion(outputs, labels)\n",
        "        loss.backward()\n",
        "        optimizer.step()\n",
        "\n",
        "        running_loss += loss.item()\n",
        "\n",
        "    avg_train_loss = running_loss / len(train_loader)\n",
        "    train_losses.append(avg_train_loss)\n",
        "\n",
        "    # 🔁 Evaluate on test data **within each epoch**\n",
        "    model.eval()\n",
        "    all_preds = []\n",
        "    all_labels = []\n",
        "    test_loss = 0.0\n",
        "\n",
        "    with torch.no_grad():\n",
        "        for inputs, labels in test_loader:\n",
        "            inputs, labels = inputs.to(device), labels.to(device)\n",
        "            inputs = inputs.unsqueeze(1)\n",
        "            outputs = model(inputs)\n",
        "            loss = criterion(outputs, labels)\n",
        "            test_loss += loss.item()\n",
        "\n",
        "            _, predicted = torch.max(outputs, 1)\n",
        "            all_preds.extend(predicted.cpu().numpy())\n",
        "            all_labels.extend(labels.cpu().numpy())\n",
        "\n",
        "    avg_test_loss = test_loss / len(test_loader)\n",
        "    test_losses.append(avg_test_loss)\n",
        "\n",
        "    print(f\"Epoch [{epoch+1}/{epochs}], Train Loss: {avg_train_loss:.4f}, Test Loss: {avg_test_loss:.4f}\")\n",
        "\n",
        "\n",
        "\n"
      ],
      "metadata": {
        "colab": {
          "base_uri": "https://localhost:8080/"
        },
        "id": "FP57RRKMSyZO",
        "outputId": "774571cc-0978-4951-e546-6ee9ec067ec6"
      },
      "execution_count": 126,
      "outputs": [
        {
          "output_type": "stream",
          "name": "stdout",
          "text": [
            "Epoch [1/20], Train Loss: 4.5798, Test Loss: 5.0049\n",
            "Epoch [2/20], Train Loss: 3.9291, Test Loss: 5.3875\n",
            "Epoch [3/20], Train Loss: 3.6251, Test Loss: 5.6745\n",
            "Epoch [4/20], Train Loss: 3.5699, Test Loss: 5.8136\n",
            "Epoch [5/20], Train Loss: 3.5693, Test Loss: 5.9001\n",
            "Epoch [6/20], Train Loss: 3.5480, Test Loss: 5.9537\n",
            "Epoch [7/20], Train Loss: 3.5322, Test Loss: 6.0017\n",
            "Epoch [8/20], Train Loss: 3.4808, Test Loss: 6.0437\n",
            "Epoch [9/20], Train Loss: 3.4245, Test Loss: 6.0279\n",
            "Epoch [10/20], Train Loss: 3.3765, Test Loss: 6.0678\n",
            "Epoch [11/20], Train Loss: 3.3413, Test Loss: 6.0748\n",
            "Epoch [12/20], Train Loss: 3.3070, Test Loss: 6.0113\n",
            "Epoch [13/20], Train Loss: 3.2626, Test Loss: 6.0488\n",
            "Epoch [14/20], Train Loss: 3.2384, Test Loss: 6.0994\n",
            "Epoch [15/20], Train Loss: 3.2177, Test Loss: 6.0731\n",
            "Epoch [16/20], Train Loss: 3.1861, Test Loss: 5.9779\n",
            "Epoch [17/20], Train Loss: 3.1676, Test Loss: 6.0181\n",
            "Epoch [18/20], Train Loss: 3.1401, Test Loss: 6.0123\n",
            "Epoch [19/20], Train Loss: 3.1112, Test Loss: 6.0577\n",
            "Epoch [20/20], Train Loss: 3.0947, Test Loss: 6.0668\n"
          ]
        }
      ]
    },
    {
      "cell_type": "code",
      "source": [
        " import matplotlib.pyplot as plt\n",
        "\n",
        "plt.figure(figsize=(8, 4))\n",
        "plt.plot(train_losses, label='Train Loss', marker='o', linestyle='-')\n",
        "plt.plot(test_losses, label='Test Loss', marker='x', linestyle='--')\n",
        "plt.title(\"Train vs Test Loss Over Epochs\")\n",
        "plt.xlabel(\"Epoch\")\n",
        "plt.ylabel(\"Loss\")\n",
        "plt.legend()\n",
        "plt.grid(True)\n",
        "plt.tight_layout()\n",
        "plt.show()\n"
      ],
      "metadata": {
        "colab": {
          "base_uri": "https://localhost:8080/",
          "height": 407
        },
        "id": "s6VZC3UeZBV_",
        "outputId": "9f78a48f-5d81-4d66-efec-94cf30079035"
      },
      "execution_count": 127,
      "outputs": [
        {
          "output_type": "display_data",
          "data": {
            "text/plain": [
              "<Figure size 800x400 with 1 Axes>"
            ],
            "image/png": "[encoded data removed]"
          },
          "metadata": {}
        }
      ]
    },
    {
      "cell_type": "code",
      "source": [
        "# Convert lists to numpy arrays for sklearn functions\n",
        "all_preds = np.array(all_preds)\n",
        "all_labels = np.array(all_labels)\n",
        "num_classes=12\n",
        "\n",
        "precision_macro = precision_score(all_labels, all_preds, average='macro', labels=np.arange(num_classes))\n",
        "recall_macro = recall_score(all_labels, all_preds, average='macro', labels=np.arange(num_classes))\n",
        "f1_macro = f1_score(all_labels, all_preds, average='macro', labels=np.arange(num_classes))\n",
        "\n",
        "precision_weighted = precision_score(all_labels, all_preds, average='weighted', labels=np.arange(num_classes))\n",
        "recall_weighted = recall_score(all_labels, all_preds, average='weighted', labels=np.arange(num_classes))\n",
        "f1_weighted = f1_score(all_labels, all_preds, average='weighted', labels=np.arange(num_classes))\n",
        "\n",
        "accuracy = accuracy_score(all_labels, all_preds)\n",
        "\n",
        "# Print all metrics\n",
        "print(f\"Macro Average Precision: {precision_macro:.4f}\")\n",
        "print(f\"Macro Average Recall: {recall_macro:.4f}\")\n",
        "print(f\"Macro Average F1 Score: {f1_macro:.4f}\")\n",
        "\n",
        "print(f\"Weighted Average Precision: {precision_weighted:.4f}\")\n",
        "print(f\"Weighted Average Recall: {recall_weighted:.4f}\")\n",
        "print(f\"Weighted Average F1 Score: {f1_weighted:.4f}\")\n",
        "\n",
        "print(f\"Accuracy: {accuracy:.4f}\")"
      ],
      "metadata": {
        "colab": {
          "base_uri": "https://localhost:8080/"
        },
        "id": "r08NHPDsTZmx",
        "outputId": "7062bc66-e67e-4046-f6ce-a52da7833100"
      },
      "execution_count": 128,
      "outputs": [
        {
          "output_type": "stream",
          "name": "stdout",
          "text": [
            "Macro Average Precision: 0.0000\n",
            "Macro Average Recall: 0.0000\n",
            "Macro Average F1 Score: 0.0000\n",
            "Weighted Average Precision: 0.0000\n",
            "Weighted Average Recall: 0.0000\n",
            "Weighted Average F1 Score: 0.0000\n",
            "Accuracy: 0.0010\n"
          ]
        },
        {
          "output_type": "stream",
          "name": "stderr",
          "text": [
            "/usr/local/lib/python3.11/dist-packages/sklearn/metrics/_classification.py:1565: UndefinedMetricWarning: Precision is ill-defined and being set to 0.0 in labels with no predicted samples. Use `zero_division` parameter to control this behavior.\n",
            "  _warn_prf(average, modifier, f\"{metric.capitalize()} is\", len(result))\n",
            "/usr/local/lib/python3.11/dist-packages/sklearn/metrics/_classification.py:1565: UndefinedMetricWarning: Precision is ill-defined and being set to 0.0 in labels with no predicted samples. Use `zero_division` parameter to control this behavior.\n",
            "  _warn_prf(average, modifier, f\"{metric.capitalize()} is\", len(result))\n"
          ]
        }
      ]
    },
    {
      "cell_type": "code",
      "source": [
        "# Save the model (after training)\n",
        "torch.save(model.state_dict(), \"best_lstm_model_product.pth\")\n"
      ],
      "metadata": {
        "id": "IzLBgQ6nTffw"
      },
      "execution_count": 85,
      "outputs": []
    },
    {
      "cell_type": "code",
      "source": [],
      "metadata": {
        "id": "hFRWn8yQiz-P"
      },
      "execution_count": null,
      "outputs": []
    }
  ]
}