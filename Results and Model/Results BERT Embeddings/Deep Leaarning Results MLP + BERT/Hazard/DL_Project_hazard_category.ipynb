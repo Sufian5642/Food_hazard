{
  "nbformat": 4,
  "nbformat_minor": 0,
  "metadata": {
    "colab": {
      "provenance": [],
      "gpuType": "T4"
    },
    "kernelspec": {
      "name": "python3",
      "display_name": "Python 3"
    },
    "language_info": {
      "name": "python"
    },
    "accelerator": "GPU"
  },
  "cells": [
    {
      "cell_type": "code",
      "source": [
        "import pandas as pd\n",
        "import pickle\n",
        "import numpy as np\n",
        "from sklearn.model_selection import train_test_split\n",
        "from sklearn.metrics import f1_score, precision_score, recall_score, accuracy_score\n",
        "from sklearn.preprocessing import LabelEncoder\n",
        "import torch\n",
        "from torch.utils.data import Dataset, DataLoader\n",
        "import torch.nn as nn\n",
        "import torch.optim as optim\n",
        "from sklearn.metrics import f1_score\n",
        "from sklearn.metrics import confusion_matrix, ConfusionMatrixDisplay\n",
        "import matplotlib.pyplot as plt\n",
        "import seaborn as sns\n"
      ],
      "metadata": {
        "id": "WFbXTqPyH9Rv"
      },
      "execution_count": 1,
      "outputs": []
    },
    {
      "cell_type": "code",
      "source": [
        "train_emb_path = '/content/roberta_embeddings_train.pkl'\n",
        "test_emb_path = '/content/roberta_embeddings_test.pkl'\n",
        "train_labels_path = '/content/incidents_train_clean_excel.xlsx'\n",
        "test_labels_path = '/content/incidents_test_clean_excel.xlsx'"
      ],
      "metadata": {
        "id": "9siIqlKoIAoj"
      },
      "execution_count": 2,
      "outputs": []
    },
    {
      "cell_type": "code",
      "source": [
        "def load_embeddings(path):\n",
        "    with open(path, 'rb') as f:\n",
        "        return pickle.load(f)"
      ],
      "metadata": {
        "id": "ldzx1MdPIy-h"
      },
      "execution_count": 3,
      "outputs": []
    },
    {
      "cell_type": "code",
      "source": [
        "X = load_embeddings(train_emb_path)"
      ],
      "metadata": {
        "id": "n97fdRUkO5Yj"
      },
      "execution_count": 4,
      "outputs": []
    },
    {
      "cell_type": "code",
      "source": [
        "X_embed = np.array([np.array(emb, dtype=np.float32) for emb in X])\n"
      ],
      "metadata": {
        "id": "nxe3quCkI9EC"
      },
      "execution_count": 5,
      "outputs": []
    },
    {
      "cell_type": "code",
      "source": [
        "# --- Load the labels ---\n",
        "X_label = pd.read_excel(train_labels_path)\n"
      ],
      "metadata": {
        "id": "p9SpEVYRO8F6"
      },
      "execution_count": 6,
      "outputs": []
    },
    {
      "cell_type": "code",
      "source": [
        "len(X_label[\"hazard\"].unique())"
      ],
      "metadata": {
        "colab": {
          "base_uri": "https://localhost:8080/"
        },
        "id": "_PtYc-QQJzrM",
        "outputId": "c9fa3ac6-e625-4e97-8d1d-57a4436c9a10"
      },
      "execution_count": 70,
      "outputs": [
        {
          "output_type": "execute_result",
          "data": {
            "text/plain": [
              "130"
            ]
          },
          "metadata": {},
          "execution_count": 70
        }
      ]
    },
    {
      "cell_type": "code",
      "source": [
        "X_embed.shape"
      ],
      "metadata": {
        "colab": {
          "base_uri": "https://localhost:8080/"
        },
        "id": "WXMnZKaXQzCW",
        "outputId": "5c7c6b3e-843a-426b-8a0d-5d796b854ccd"
      },
      "execution_count": 71,
      "outputs": [
        {
          "output_type": "execute_result",
          "data": {
            "text/plain": [
              "(5084, 1024)"
            ]
          },
          "metadata": {},
          "execution_count": 71
        }
      ]
    },
    {
      "cell_type": "markdown",
      "source": [
        "**Hazard-category**"
      ],
      "metadata": {
        "id": "lraus9BPJ7T1"
      }
    },
    {
      "cell_type": "code",
      "execution_count": 75,
      "metadata": {
        "id": "x65jBPs8GogW"
      },
      "outputs": [],
      "source": [
        "X_labels = X_label[\"hazard\"]"
      ]
    },
    {
      "cell_type": "code",
      "source": [
        "X_train, X_test, y_train, y_test = train_test_split(X_embed, X_labels, test_size=0.2, random_state=42)\n"
      ],
      "metadata": {
        "id": "t0RYTmv3pAdb"
      },
      "execution_count": 76,
      "outputs": []
    },
    {
      "cell_type": "code",
      "source": [
        "# Now X_train, y_train, X_test, y_test are ready\n",
        "print(\"Train shape:\", X_train.shape, y_train.shape)\n",
        "print(\"Test shape:\", X_test.shape, y_test.shape)"
      ],
      "metadata": {
        "colab": {
          "base_uri": "https://localhost:8080/"
        },
        "id": "x5RE484mo-fs",
        "outputId": "fcbf66d4-f5fe-4838-eab5-6d2a277083ed"
      },
      "execution_count": 77,
      "outputs": [
        {
          "output_type": "stream",
          "name": "stdout",
          "text": [
            "Train shape: (4067, 1024) (4067,)\n",
            "Test shape: (1017, 1024) (1017,)\n"
          ]
        }
      ]
    },
    {
      "cell_type": "code",
      "source": [
        "label_encoder = LabelEncoder()\n",
        "y_train = label_encoder.fit_transform(y_train)\n",
        "y_test = label_encoder.transform(y_test)"
      ],
      "metadata": {
        "id": "Rj5tm40gPR0e"
      },
      "execution_count": 78,
      "outputs": []
    },
    {
      "cell_type": "code",
      "source": [
        "# Now X_train, y_train, X_test, y_test are ready\n",
        "print(\"Train shape:\", X_train.shape, y_train.shape)\n",
        "print(\"Test shape:\", X_test.shape, y_test.shape)"
      ],
      "metadata": {
        "colab": {
          "base_uri": "https://localhost:8080/"
        },
        "id": "0w2pFK6CRC6a",
        "outputId": "d3a7cc37-b628-43c5-cc81-a62e84ec2e5b"
      },
      "execution_count": 79,
      "outputs": [
        {
          "output_type": "stream",
          "name": "stdout",
          "text": [
            "Train shape: (4067, 1024) (4067,)\n",
            "Test shape: (1017, 1024) (1017,)\n"
          ]
        }
      ]
    },
    {
      "cell_type": "code",
      "source": [
        "class EmbeddingDataset(Dataset):\n",
        "    def __init__(self, embeddings, labels):\n",
        "        self.embeddings = torch.tensor(embeddings, dtype=torch.float32)\n",
        "        self.labels = torch.tensor(labels, dtype=torch.long)\n",
        "\n",
        "    def __len__(self):\n",
        "        return len(self.embeddings)\n",
        "\n",
        "    def __getitem__(self, idx):\n",
        "        return self.embeddings[idx], self.labels[idx]\n"
      ],
      "metadata": {
        "id": "7pfTIBc5KMk9"
      },
      "execution_count": 80,
      "outputs": []
    },
    {
      "cell_type": "code",
      "source": [
        "train_dataset = EmbeddingDataset(X_train, y_train)\n",
        "test_dataset = EmbeddingDataset(X_test, y_test)\n"
      ],
      "metadata": {
        "id": "QOgjOE6VL4DW"
      },
      "execution_count": 81,
      "outputs": []
    },
    {
      "cell_type": "code",
      "source": [
        "device = torch.device(\"cuda\" if torch.cuda.is_available() else \"cpu\")"
      ],
      "metadata": {
        "id": "hawCS4ROCYd2"
      },
      "execution_count": 105,
      "outputs": []
    },
    {
      "cell_type": "code",
      "source": [
        "#train_labels=train_dataset.labels"
      ],
      "metadata": {
        "id": "QC9HLUyrCKcN"
      },
      "execution_count": 104,
      "outputs": []
    },
    {
      "cell_type": "code",
      "source": [
        "\n",
        "#from sklearn.utils.class_weight import compute_class_weight\n",
        "\n",
        "# Compute class weights\n",
        "#all_train_labels = np.array(train_labels)  # assuming train_labels is a list/array of ints\n",
        "#class_weights_np = compute_class_weight(class_weight='balanced', classes=np.unique(all_train_labels), y=all_train_labels)\n",
        "#class_weights = torch.tensor(class_weights_np, dtype=torch.float).to(device)\n",
        "\n",
        "# Use weighted loss\n",
        "#criterion = nn.CrossEntropyLoss(weight=class_weights)"
      ],
      "metadata": {
        "id": "eeqOzClUBukf"
      },
      "execution_count": 106,
      "outputs": []
    },
    {
      "cell_type": "code",
      "source": [
        "train_loader = DataLoader(train_dataset, batch_size=32, shuffle=True)\n",
        "test_loader = DataLoader(test_dataset, batch_size=32)"
      ],
      "metadata": {
        "id": "I1LJqn1AL6IP"
      },
      "execution_count": 107,
      "outputs": []
    },
    {
      "cell_type": "code",
      "source": [
        "class TextClassificationMLP(nn.Module):\n",
        "    def __init__(self, input_size=1024, hidden_sizes=[512, 256], num_classes=130, dropout=0.5):\n",
        "        super(TextClassificationMLP, self).__init__()\n",
        "\n",
        "        self.model = nn.Sequential(\n",
        "            nn.Linear(input_size, hidden_sizes[0]),\n",
        "            nn.BatchNorm1d(hidden_sizes[0]),\n",
        "            nn.ReLU(),\n",
        "            nn.Dropout(dropout),\n",
        "\n",
        "\n",
        "\n",
        "            nn.Linear(hidden_sizes[0], hidden_sizes[1]),\n",
        "            nn.BatchNorm1d(hidden_sizes[1]),\n",
        "            nn.ReLU(),\n",
        "            nn.Dropout(dropout),\n",
        "\n",
        "            nn.Linear(hidden_sizes[1], num_classes)\n",
        "        )\n",
        "\n",
        "    def forward(self, x):\n",
        "        return self.model(x)\n",
        "\n",
        "\n"
      ],
      "metadata": {
        "id": "3XAYS-ZCRgDg"
      },
      "execution_count": 138,
      "outputs": []
    },
    {
      "cell_type": "code",
      "source": [
        "# Model initialization\n",
        "model = TextClassificationMLP()\n",
        "\n",
        "# Loss function (CrossEntropy for multi-class classification)\n",
        "criterion = nn.CrossEntropyLoss()\n",
        "\n",
        "# Optimizer (Adam optimizer)\n",
        "optimizer = optim.Adam(model.parameters(), lr=0.001)\n",
        "\n",
        "# 4. Training loop\n",
        "epochs = 50  # Set the number of epochs\n",
        "\n",
        "# Move the model to GPU if available\n",
        "device = torch.device(\"cuda\" if torch.cuda.is_available() else \"cpu\")\n",
        "model.to(device)"
      ],
      "metadata": {
        "colab": {
          "base_uri": "https://localhost:8080/"
        },
        "id": "qFT11_Q1TJUa",
        "outputId": "6fd1dac1-85ba-467f-f374-a42edd9477ef"
      },
      "execution_count": 139,
      "outputs": [
        {
          "output_type": "execute_result",
          "data": {
            "text/plain": [
              "TextClassificationMLP(\n",
              "  (model): Sequential(\n",
              "    (0): Linear(in_features=1024, out_features=512, bias=True)\n",
              "    (1): BatchNorm1d(512, eps=1e-05, momentum=0.1, affine=True, track_running_stats=True)\n",
              "    (2): ReLU()\n",
              "    (3): Dropout(p=0.5, inplace=False)\n",
              "    (4): Linear(in_features=512, out_features=256, bias=True)\n",
              "    (5): BatchNorm1d(256, eps=1e-05, momentum=0.1, affine=True, track_running_stats=True)\n",
              "    (6): ReLU()\n",
              "    (7): Dropout(p=0.5, inplace=False)\n",
              "    (8): Linear(in_features=256, out_features=130, bias=True)\n",
              "  )\n",
              ")"
            ]
          },
          "metadata": {},
          "execution_count": 139
        }
      ]
    },
    {
      "cell_type": "code",
      "source": [
        "def count_parameters(model):\n",
        "    return sum(p.numel() for p in model.parameters())\n",
        "\n",
        "# Print the total number of parameters\n",
        "print(f\"Total number of parameters: {count_parameters(model)}\")"
      ],
      "metadata": {
        "colab": {
          "base_uri": "https://localhost:8080/"
        },
        "id": "R1BlA8441AeH",
        "outputId": "1fdfa10e-7caa-48d5-c194-d3bf65c496ad"
      },
      "execution_count": 140,
      "outputs": [
        {
          "output_type": "stream",
          "name": "stdout",
          "text": [
            "Total number of parameters: 691074\n"
          ]
        }
      ]
    },
    {
      "cell_type": "code",
      "source": [
        "train_losses = []\n",
        "test_losses = []"
      ],
      "metadata": {
        "id": "DVUOAAn3V8v8"
      },
      "execution_count": 141,
      "outputs": []
    },
    {
      "cell_type": "code",
      "source": [
        "for epoch in range(epochs):\n",
        "    model.train()  # Set the model to training mode\n",
        "    running_loss = 0.0\n",
        "\n",
        "    for inputs, labels in train_loader:\n",
        "        inputs, labels = inputs.to(device), labels.to(device)\n",
        "\n",
        "        # No need to unsqueeze for MLP\n",
        "        optimizer.zero_grad()\n",
        "        outputs = model(inputs)\n",
        "        loss = criterion(outputs, labels)\n",
        "        loss.backward()\n",
        "        optimizer.step()\n",
        "\n",
        "        running_loss += loss.item()\n",
        "\n",
        "    avg_train_loss = running_loss / len(train_loader)\n",
        "    train_losses.append(avg_train_loss)\n",
        "\n",
        "    # 🔁 Evaluate on test data within each epoch\n",
        "    model.eval()\n",
        "    all_preds = []\n",
        "    all_labels = []\n",
        "    test_loss = 0.0\n",
        "\n",
        "    with torch.no_grad():\n",
        "        for inputs, labels in test_loader:\n",
        "            inputs, labels = inputs.to(device), labels.to(device)\n",
        "            outputs = model(inputs)\n",
        "            loss = criterion(outputs, labels)\n",
        "            test_loss += loss.item()\n",
        "\n",
        "            _, predicted = torch.max(outputs, 1)\n",
        "            all_preds.extend(predicted.cpu().numpy())\n",
        "            all_labels.extend(labels.cpu().numpy())\n",
        "\n",
        "    avg_test_loss = test_loss / len(test_loader)\n",
        "    test_losses.append(avg_test_loss)\n",
        "\n",
        "    print(f\"Epoch [{epoch+1}/{epochs}], Train Loss: {avg_train_loss:.4f}, Test Loss: {avg_test_loss:.4f}\")\n",
        "\n",
        "\n",
        "\n",
        "\n"
      ],
      "metadata": {
        "colab": {
          "base_uri": "https://localhost:8080/"
        },
        "id": "FP57RRKMSyZO",
        "outputId": "830cc993-67a4-4ce5-ae33-20714ce67678"
      },
      "execution_count": 142,
      "outputs": [
        {
          "output_type": "stream",
          "name": "stdout",
          "text": [
            "Epoch [1/50], Train Loss: 3.7113, Test Loss: 3.4414\n",
            "Epoch [2/50], Train Loss: 3.4018, Test Loss: 3.2583\n",
            "Epoch [3/50], Train Loss: 3.2086, Test Loss: 3.1341\n",
            "Epoch [4/50], Train Loss: 3.0811, Test Loss: 3.0309\n",
            "Epoch [5/50], Train Loss: 2.9775, Test Loss: 2.9333\n",
            "Epoch [6/50], Train Loss: 2.8775, Test Loss: 2.8924\n",
            "Epoch [7/50], Train Loss: 2.8295, Test Loss: 2.8164\n",
            "Epoch [8/50], Train Loss: 2.7285, Test Loss: 2.7322\n",
            "Epoch [9/50], Train Loss: 2.6463, Test Loss: 2.6972\n",
            "Epoch [10/50], Train Loss: 2.6523, Test Loss: 2.6859\n",
            "Epoch [11/50], Train Loss: 2.6178, Test Loss: 2.6160\n",
            "Epoch [12/50], Train Loss: 2.5627, Test Loss: 2.5765\n",
            "Epoch [13/50], Train Loss: 2.5012, Test Loss: 2.5689\n",
            "Epoch [14/50], Train Loss: 2.4433, Test Loss: 2.5555\n",
            "Epoch [15/50], Train Loss: 2.4253, Test Loss: 2.4901\n",
            "Epoch [16/50], Train Loss: 2.3835, Test Loss: 2.4514\n",
            "Epoch [17/50], Train Loss: 2.3668, Test Loss: 2.4814\n",
            "Epoch [18/50], Train Loss: 2.3609, Test Loss: 2.4712\n",
            "Epoch [19/50], Train Loss: 2.3210, Test Loss: 2.4409\n",
            "Epoch [20/50], Train Loss: 2.3298, Test Loss: 2.4445\n",
            "Epoch [21/50], Train Loss: 2.3157, Test Loss: 2.4043\n",
            "Epoch [22/50], Train Loss: 2.3057, Test Loss: 2.4423\n",
            "Epoch [23/50], Train Loss: 2.2670, Test Loss: 2.4233\n",
            "Epoch [24/50], Train Loss: 2.2203, Test Loss: 2.3748\n",
            "Epoch [25/50], Train Loss: 2.2224, Test Loss: 2.3313\n",
            "Epoch [26/50], Train Loss: 2.1607, Test Loss: 2.3361\n",
            "Epoch [27/50], Train Loss: 2.1421, Test Loss: 2.3259\n",
            "Epoch [28/50], Train Loss: 2.1267, Test Loss: 2.2920\n",
            "Epoch [29/50], Train Loss: 2.1231, Test Loss: 2.3267\n",
            "Epoch [30/50], Train Loss: 2.0743, Test Loss: 2.2728\n",
            "Epoch [31/50], Train Loss: 2.0745, Test Loss: 2.2453\n",
            "Epoch [32/50], Train Loss: 2.0772, Test Loss: 2.2676\n",
            "Epoch [33/50], Train Loss: 2.0204, Test Loss: 2.2329\n",
            "Epoch [34/50], Train Loss: 2.0349, Test Loss: 2.2668\n",
            "Epoch [35/50], Train Loss: 1.9851, Test Loss: 2.2508\n",
            "Epoch [36/50], Train Loss: 1.9331, Test Loss: 2.2034\n",
            "Epoch [37/50], Train Loss: 1.9298, Test Loss: 2.2295\n",
            "Epoch [38/50], Train Loss: 1.9424, Test Loss: 2.2439\n",
            "Epoch [39/50], Train Loss: 1.9184, Test Loss: 2.1978\n",
            "Epoch [40/50], Train Loss: 1.9183, Test Loss: 2.2040\n",
            "Epoch [41/50], Train Loss: 1.9260, Test Loss: 2.2450\n",
            "Epoch [42/50], Train Loss: 1.9215, Test Loss: 2.1914\n",
            "Epoch [43/50], Train Loss: 1.8673, Test Loss: 2.2271\n",
            "Epoch [44/50], Train Loss: 1.8519, Test Loss: 2.2099\n",
            "Epoch [45/50], Train Loss: 1.8533, Test Loss: 2.1837\n",
            "Epoch [46/50], Train Loss: 1.8231, Test Loss: 2.2377\n",
            "Epoch [47/50], Train Loss: 1.8617, Test Loss: 2.1410\n",
            "Epoch [48/50], Train Loss: 1.8314, Test Loss: 2.1782\n",
            "Epoch [49/50], Train Loss: 1.8003, Test Loss: 2.2017\n",
            "Epoch [50/50], Train Loss: 1.8664, Test Loss: 2.1915\n"
          ]
        }
      ]
    },
    {
      "cell_type": "code",
      "source": [
        "import matplotlib.pyplot as plt\n",
        "\n",
        "plt.figure(figsize=(8, 5))\n",
        "plt.plot(train_losses, label='Train Loss', marker='o', linestyle='-')\n",
        "plt.plot(test_losses, label='Test Loss', marker='x', linestyle='--')\n",
        "plt.title(\"Train vs Test Loss Over Epochs\")\n",
        "plt.xlabel(\"Epoch\")\n",
        "plt.ylabel(\"Loss\")\n",
        "plt.legend()\n",
        "plt.grid(True)\n",
        "plt.tight_layout()\n",
        "plt.show()\n"
      ],
      "metadata": {
        "colab": {
          "base_uri": "https://localhost:8080/",
          "height": 507
        },
        "id": "s6VZC3UeZBV_",
        "outputId": "8681e7c2-b4f9-4329-9e82-2f892ef7e3b5"
      },
      "execution_count": 143,
      "outputs": [
        {
          "output_type": "display_data",
          "data": {
            "text/plain": [
              "<Figure size 800x500 with 1 Axes>"
            ],
            "image/png": "[encoded data removed]"
          },
          "metadata": {}
        }
      ]
    },
    {
      "cell_type": "code",
      "source": [
        "# Convert lists to numpy arrays for sklearn functions\n",
        "all_preds = np.array(all_preds)\n",
        "all_labels = np.array(all_labels)\n",
        "num_classes=130\n",
        "\n",
        "precision_macro = precision_score(all_labels, all_preds, average='macro', labels=np.arange(num_classes))\n",
        "recall_macro = recall_score(all_labels, all_preds, average='macro', labels=np.arange(num_classes))\n",
        "f1_macro = f1_score(all_labels, all_preds, average='macro', labels=np.arange(num_classes))\n",
        "\n",
        "precision_weighted = precision_score(all_labels, all_preds, average='weighted', labels=np.arange(num_classes))\n",
        "recall_weighted = recall_score(all_labels, all_preds, average='weighted', labels=np.arange(num_classes))\n",
        "f1_weighted = f1_score(all_labels, all_preds, average='weighted', labels=np.arange(num_classes))\n",
        "\n",
        "accuracy = accuracy_score(all_labels, all_preds)\n",
        "\n",
        "# Print all metrics\n",
        "print(f\"Macro Average Precision: {precision_macro:.4f}\")\n",
        "print(f\"Macro Average Recall: {recall_macro:.4f}\")\n",
        "print(f\"Macro Average F1 Score: {f1_macro:.4f}\")\n",
        "\n",
        "print(f\"Weighted Average Precision: {precision_weighted:.4f}\")\n",
        "print(f\"Weighted Average Recall: {recall_weighted:.4f}\")\n",
        "print(f\"Weighted Average F1 Score: {f1_weighted:.4f}\")\n",
        "\n",
        "print(f\"Accuracy: {accuracy:.4f}\")"
      ],
      "metadata": {
        "colab": {
          "base_uri": "https://localhost:8080/"
        },
        "id": "r08NHPDsTZmx",
        "outputId": "15a22f47-37dd-441f-cd75-71522c7f48fe"
      },
      "execution_count": 144,
      "outputs": [
        {
          "output_type": "stream",
          "name": "stdout",
          "text": [
            "Macro Average Precision: 0.1099\n",
            "Macro Average Recall: 0.1122\n",
            "Macro Average F1 Score: 0.0985\n",
            "Weighted Average Precision: 0.4086\n",
            "Weighted Average Recall: 0.4651\n",
            "Weighted Average F1 Score: 0.4175\n",
            "Accuracy: 0.4651\n"
          ]
        },
        {
          "output_type": "stream",
          "name": "stderr",
          "text": [
            "/usr/local/lib/python3.11/dist-packages/sklearn/metrics/_classification.py:1565: UndefinedMetricWarning: Precision is ill-defined and being set to 0.0 in labels with no predicted samples. Use `zero_division` parameter to control this behavior.\n",
            "  _warn_prf(average, modifier, f\"{metric.capitalize()} is\", len(result))\n",
            "/usr/local/lib/python3.11/dist-packages/sklearn/metrics/_classification.py:1565: UndefinedMetricWarning: Recall is ill-defined and being set to 0.0 in labels with no true samples. Use `zero_division` parameter to control this behavior.\n",
            "  _warn_prf(average, modifier, f\"{metric.capitalize()} is\", len(result))\n",
            "/usr/local/lib/python3.11/dist-packages/sklearn/metrics/_classification.py:1565: UndefinedMetricWarning: F-score is ill-defined and being set to 0.0 in labels with no true nor predicted samples. Use `zero_division` parameter to control this behavior.\n",
            "  _warn_prf(average, modifier, f\"{metric.capitalize()} is\", len(result))\n",
            "/usr/local/lib/python3.11/dist-packages/sklearn/metrics/_classification.py:1565: UndefinedMetricWarning: Precision is ill-defined and being set to 0.0 in labels with no predicted samples. Use `zero_division` parameter to control this behavior.\n",
            "  _warn_prf(average, modifier, f\"{metric.capitalize()} is\", len(result))\n",
            "/usr/local/lib/python3.11/dist-packages/sklearn/metrics/_classification.py:1565: UndefinedMetricWarning: Recall is ill-defined and being set to 0.0 in labels with no true samples. Use `zero_division` parameter to control this behavior.\n",
            "  _warn_prf(average, modifier, f\"{metric.capitalize()} is\", len(result))\n",
            "/usr/local/lib/python3.11/dist-packages/sklearn/metrics/_classification.py:1565: UndefinedMetricWarning: F-score is ill-defined and being set to 0.0 in labels with no true nor predicted samples. Use `zero_division` parameter to control this behavior.\n",
            "  _warn_prf(average, modifier, f\"{metric.capitalize()} is\", len(result))\n"
          ]
        }
      ]
    },
    {
      "cell_type": "code",
      "source": [
        "# Save the model (after training)\n",
        "torch.save(model.state_dict(), \"best_lstm_model_hazard.pth\")\n"
      ],
      "metadata": {
        "id": "IzLBgQ6nTffw"
      },
      "execution_count": 145,
      "outputs": []
    },
    {
      "cell_type": "code",
      "source": [],
      "metadata": {
        "id": "hFRWn8yQiz-P"
      },
      "execution_count": null,
      "outputs": []
    }
  ]
}