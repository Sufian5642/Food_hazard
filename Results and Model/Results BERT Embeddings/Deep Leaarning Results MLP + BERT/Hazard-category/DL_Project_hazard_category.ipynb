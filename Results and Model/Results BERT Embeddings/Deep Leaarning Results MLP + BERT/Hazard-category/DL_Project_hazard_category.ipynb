{
  "nbformat": 4,
  "nbformat_minor": 0,
  "metadata": {
    "colab": {
      "provenance": [],
      "gpuType": "T4"
    },
    "kernelspec": {
      "name": "python3",
      "display_name": "Python 3"
    },
    "language_info": {
      "name": "python"
    },
    "accelerator": "GPU"
  },
  "cells": [
    {
      "cell_type": "code",
      "source": [
        "import pandas as pd\n",
        "import pickle\n",
        "import numpy as np\n",
        "from sklearn.model_selection import train_test_split\n",
        "from sklearn.metrics import f1_score, precision_score, recall_score, accuracy_score\n",
        "from sklearn.preprocessing import LabelEncoder\n",
        "import torch\n",
        "from torch.utils.data import Dataset, DataLoader\n",
        "import torch.nn as nn\n",
        "import torch.optim as optim\n",
        "from sklearn.metrics import f1_score\n",
        "from sklearn.metrics import confusion_matrix, ConfusionMatrixDisplay\n",
        "import matplotlib.pyplot as plt\n",
        "import seaborn as sns\n"
      ],
      "metadata": {
        "id": "WFbXTqPyH9Rv"
      },
      "execution_count": 1,
      "outputs": []
    },
    {
      "cell_type": "code",
      "source": [
        "train_emb_path = '/content/roberta_embeddings_train.pkl'\n",
        "test_emb_path = '/content/roberta_embeddings_test.pkl'\n",
        "train_labels_path = '/content/incidents_train_clean_excel.xlsx'\n",
        "test_labels_path = '/content/incidents_test_clean_excel.xlsx'"
      ],
      "metadata": {
        "id": "9siIqlKoIAoj"
      },
      "execution_count": 2,
      "outputs": []
    },
    {
      "cell_type": "code",
      "source": [
        "def load_embeddings(path):\n",
        "    with open(path, 'rb') as f:\n",
        "        return pickle.load(f)"
      ],
      "metadata": {
        "id": "ldzx1MdPIy-h"
      },
      "execution_count": 3,
      "outputs": []
    },
    {
      "cell_type": "code",
      "source": [
        "X = load_embeddings(train_emb_path)"
      ],
      "metadata": {
        "id": "n97fdRUkO5Yj"
      },
      "execution_count": 4,
      "outputs": []
    },
    {
      "cell_type": "code",
      "source": [
        "X_embed = np.array([np.array(emb, dtype=np.float32) for emb in X])\n"
      ],
      "metadata": {
        "id": "nxe3quCkI9EC"
      },
      "execution_count": 5,
      "outputs": []
    },
    {
      "cell_type": "code",
      "source": [
        "# --- Load the labels ---\n",
        "X_label = pd.read_excel(train_labels_path)\n"
      ],
      "metadata": {
        "id": "p9SpEVYRO8F6"
      },
      "execution_count": 6,
      "outputs": []
    },
    {
      "cell_type": "code",
      "source": [
        "X_label[\"hazard-category\"].unique()"
      ],
      "metadata": {
        "colab": {
          "base_uri": "https://localhost:8080/"
        },
        "id": "_PtYc-QQJzrM",
        "outputId": "dbff2492-8dad-42c4-e873-41c02508889f"
      },
      "execution_count": 7,
      "outputs": [
        {
          "output_type": "execute_result",
          "data": {
            "text/plain": [
              "array(['biological', 'foreign bodies', 'chemical', 'fraud',\n",
              "       'organoleptic aspects', 'allergens', 'packaging defect',\n",
              "       'other hazard', 'food additives and flavourings', nan, ' PE',\n",
              "       'migration'], dtype=object)"
            ]
          },
          "metadata": {},
          "execution_count": 7
        }
      ]
    },
    {
      "cell_type": "code",
      "source": [
        "X_embed.shape"
      ],
      "metadata": {
        "colab": {
          "base_uri": "https://localhost:8080/"
        },
        "id": "WXMnZKaXQzCW",
        "outputId": "1be8ee0d-d369-4828-cef3-d460869a39b8"
      },
      "execution_count": 8,
      "outputs": [
        {
          "output_type": "execute_result",
          "data": {
            "text/plain": [
              "(5084, 1024)"
            ]
          },
          "metadata": {},
          "execution_count": 8
        }
      ]
    },
    {
      "cell_type": "markdown",
      "source": [
        "**Hazard-category**"
      ],
      "metadata": {
        "id": "lraus9BPJ7T1"
      }
    },
    {
      "cell_type": "code",
      "execution_count": 9,
      "metadata": {
        "id": "x65jBPs8GogW"
      },
      "outputs": [],
      "source": [
        "X_labels = X_label[\"hazard-category\"]"
      ]
    },
    {
      "cell_type": "code",
      "source": [
        "X_train, X_test, y_train, y_test = train_test_split(X_embed, X_labels, test_size=0.2, random_state=42)\n"
      ],
      "metadata": {
        "id": "t0RYTmv3pAdb"
      },
      "execution_count": 10,
      "outputs": []
    },
    {
      "cell_type": "code",
      "source": [
        "# Now X_train, y_train, X_test, y_test are ready\n",
        "print(\"Train shape:\", X_train.shape, y_train.shape)\n",
        "print(\"Test shape:\", X_test.shape, y_test.shape)"
      ],
      "metadata": {
        "colab": {
          "base_uri": "https://localhost:8080/"
        },
        "id": "x5RE484mo-fs",
        "outputId": "f208b6e2-b085-4c14-a99a-5e6b9ea04429"
      },
      "execution_count": 11,
      "outputs": [
        {
          "output_type": "stream",
          "name": "stdout",
          "text": [
            "Train shape: (4067, 1024) (4067,)\n",
            "Test shape: (1017, 1024) (1017,)\n"
          ]
        }
      ]
    },
    {
      "cell_type": "code",
      "source": [
        "label_encoder = LabelEncoder()\n",
        "y_train = label_encoder.fit_transform(y_train)\n",
        "y_test = label_encoder.transform(y_test)"
      ],
      "metadata": {
        "id": "Rj5tm40gPR0e"
      },
      "execution_count": 12,
      "outputs": []
    },
    {
      "cell_type": "code",
      "source": [
        "# Now X_train, y_train, X_test, y_test are ready\n",
        "print(\"Train shape:\", X_train.shape, y_train.shape)\n",
        "print(\"Test shape:\", X_test.shape, y_test.shape)"
      ],
      "metadata": {
        "colab": {
          "base_uri": "https://localhost:8080/"
        },
        "id": "0w2pFK6CRC6a",
        "outputId": "710c9e1e-04df-43ca-a58b-e82f7fd4aa0f"
      },
      "execution_count": 13,
      "outputs": [
        {
          "output_type": "stream",
          "name": "stdout",
          "text": [
            "Train shape: (4067, 1024) (4067,)\n",
            "Test shape: (1017, 1024) (1017,)\n"
          ]
        }
      ]
    },
    {
      "cell_type": "code",
      "source": [
        "class EmbeddingDataset(Dataset):\n",
        "    def __init__(self, embeddings, labels):\n",
        "        self.embeddings = torch.tensor(embeddings, dtype=torch.float32)\n",
        "        self.labels = torch.tensor(labels, dtype=torch.long)\n",
        "\n",
        "    def __len__(self):\n",
        "        return len(self.embeddings)\n",
        "\n",
        "    def __getitem__(self, idx):\n",
        "        return self.embeddings[idx], self.labels[idx]\n"
      ],
      "metadata": {
        "id": "7pfTIBc5KMk9"
      },
      "execution_count": 14,
      "outputs": []
    },
    {
      "cell_type": "code",
      "source": [
        "train_dataset = EmbeddingDataset(X_train, y_train)\n",
        "test_dataset = EmbeddingDataset(X_test, y_test)\n"
      ],
      "metadata": {
        "id": "QOgjOE6VL4DW"
      },
      "execution_count": 15,
      "outputs": []
    },
    {
      "cell_type": "code",
      "source": [
        "train_loader = DataLoader(train_dataset, batch_size=32, shuffle=True)\n",
        "test_loader = DataLoader(test_dataset, batch_size=32)"
      ],
      "metadata": {
        "id": "I1LJqn1AL6IP"
      },
      "execution_count": 16,
      "outputs": []
    },
    {
      "cell_type": "code",
      "source": [
        "class TextClassificationMLP(nn.Module):\n",
        "    def __init__(self, input_size=1024, hidden_sizes=[512, 256], num_classes=12, dropout=0.4):\n",
        "        super(TextClassificationMLP, self).__init__()\n",
        "\n",
        "        self.model = nn.Sequential(\n",
        "            nn.Linear(input_size, hidden_sizes[0]),\n",
        "            nn.ReLU(),\n",
        "            nn.Dropout(dropout),\n",
        "\n",
        "            nn.Linear(hidden_sizes[0], hidden_sizes[1]),\n",
        "            nn.ReLU(),\n",
        "            nn.Dropout(dropout),\n",
        "\n",
        "\n",
        "            nn.Linear(hidden_sizes[1], num_classes)\n",
        "        )\n",
        "\n",
        "    def forward(self, x):\n",
        "        return self.model(x)\n",
        "\n",
        "\n"
      ],
      "metadata": {
        "id": "3XAYS-ZCRgDg"
      },
      "execution_count": 61,
      "outputs": []
    },
    {
      "cell_type": "code",
      "source": [
        "# Model initialization\n",
        "model = TextClassificationMLP()\n",
        "\n",
        "# Loss function (CrossEntropy for multi-class classification)\n",
        "criterion = nn.CrossEntropyLoss()\n",
        "\n",
        "# Optimizer (Adam optimizer)\n",
        "optimizer = optim.Adam(model.parameters(), lr=0.001)\n",
        "\n",
        "# 4. Training loop\n",
        "epochs = 50  # Set the number of epochs\n",
        "\n",
        "# Move the model to GPU if available\n",
        "device = torch.device(\"cuda\" if torch.cuda.is_available() else \"cpu\")\n",
        "model.to(device)"
      ],
      "metadata": {
        "colab": {
          "base_uri": "https://localhost:8080/"
        },
        "id": "qFT11_Q1TJUa",
        "outputId": "a93b02a6-f991-4ec2-aaf9-3e0b7b43924c"
      },
      "execution_count": 62,
      "outputs": [
        {
          "output_type": "execute_result",
          "data": {
            "text/plain": [
              "TextClassificationMLP(\n",
              "  (model): Sequential(\n",
              "    (0): Linear(in_features=1024, out_features=512, bias=True)\n",
              "    (1): ReLU()\n",
              "    (2): Dropout(p=0.4, inplace=False)\n",
              "    (3): Linear(in_features=512, out_features=256, bias=True)\n",
              "    (4): ReLU()\n",
              "    (5): Dropout(p=0.4, inplace=False)\n",
              "    (6): Linear(in_features=256, out_features=12, bias=True)\n",
              "  )\n",
              ")"
            ]
          },
          "metadata": {},
          "execution_count": 62
        }
      ]
    },
    {
      "cell_type": "code",
      "source": [
        "def count_parameters(model):\n",
        "    return sum(p.numel() for p in model.parameters())\n",
        "\n",
        "# Print the total number of parameters\n",
        "print(f\"Total number of parameters: {count_parameters(model)}\")"
      ],
      "metadata": {
        "colab": {
          "base_uri": "https://localhost:8080/"
        },
        "id": "R1BlA8441AeH",
        "outputId": "b34c0366-398d-4afe-cd70-908c585868b6"
      },
      "execution_count": 63,
      "outputs": [
        {
          "output_type": "stream",
          "name": "stdout",
          "text": [
            "Total number of parameters: 659212\n"
          ]
        }
      ]
    },
    {
      "cell_type": "code",
      "source": [
        "train_losses = []\n",
        "test_losses = []"
      ],
      "metadata": {
        "id": "DVUOAAn3V8v8"
      },
      "execution_count": 64,
      "outputs": []
    },
    {
      "cell_type": "code",
      "source": [
        "for epoch in range(epochs):\n",
        "    model.train()  # Set the model to training mode\n",
        "    running_loss = 0.0\n",
        "\n",
        "    for inputs, labels in train_loader:\n",
        "        inputs, labels = inputs.to(device), labels.to(device)\n",
        "\n",
        "        # No need to unsqueeze for MLP\n",
        "        optimizer.zero_grad()\n",
        "        outputs = model(inputs)\n",
        "        loss = criterion(outputs, labels)\n",
        "        loss.backward()\n",
        "        optimizer.step()\n",
        "\n",
        "        running_loss += loss.item()\n",
        "\n",
        "    avg_train_loss = running_loss / len(train_loader)\n",
        "    train_losses.append(avg_train_loss)\n",
        "\n",
        "    # 🔁 Evaluate on test data within each epoch\n",
        "    model.eval()\n",
        "    all_preds = []\n",
        "    all_labels = []\n",
        "    test_loss = 0.0\n",
        "\n",
        "    with torch.no_grad():\n",
        "        for inputs, labels in test_loader:\n",
        "            inputs, labels = inputs.to(device), labels.to(device)\n",
        "            outputs = model(inputs)\n",
        "            loss = criterion(outputs, labels)\n",
        "            test_loss += loss.item()\n",
        "\n",
        "            _, predicted = torch.max(outputs, 1)\n",
        "            all_preds.extend(predicted.cpu().numpy())\n",
        "            all_labels.extend(labels.cpu().numpy())\n",
        "\n",
        "    avg_test_loss = test_loss / len(test_loader)\n",
        "    test_losses.append(avg_test_loss)\n",
        "\n",
        "    print(f\"Epoch [{epoch+1}/{epochs}], Train Loss: {avg_train_loss:.4f}, Test Loss: {avg_test_loss:.4f}\")\n",
        "\n",
        "\n",
        "\n",
        "\n"
      ],
      "metadata": {
        "colab": {
          "base_uri": "https://localhost:8080/"
        },
        "id": "FP57RRKMSyZO",
        "outputId": "b2c394d7-4aaa-463d-f52e-d379459eb4a4"
      },
      "execution_count": 65,
      "outputs": [
        {
          "output_type": "stream",
          "name": "stdout",
          "text": [
            "Epoch [1/50], Train Loss: 1.5937, Test Loss: 1.4750\n",
            "Epoch [2/50], Train Loss: 1.2913, Test Loss: 1.0890\n",
            "Epoch [3/50], Train Loss: 1.0690, Test Loss: 0.9633\n",
            "Epoch [4/50], Train Loss: 0.9934, Test Loss: 0.9622\n",
            "Epoch [5/50], Train Loss: 0.9318, Test Loss: 0.8677\n",
            "Epoch [6/50], Train Loss: 0.9015, Test Loss: 0.8946\n",
            "Epoch [7/50], Train Loss: 0.8500, Test Loss: 0.8089\n",
            "Epoch [8/50], Train Loss: 0.8750, Test Loss: 0.8450\n",
            "Epoch [9/50], Train Loss: 0.8265, Test Loss: 0.9047\n",
            "Epoch [10/50], Train Loss: 0.7924, Test Loss: 0.8037\n",
            "Epoch [11/50], Train Loss: 0.7730, Test Loss: 0.7906\n",
            "Epoch [12/50], Train Loss: 0.7360, Test Loss: 0.7529\n",
            "Epoch [13/50], Train Loss: 0.7535, Test Loss: 0.6921\n",
            "Epoch [14/50], Train Loss: 0.7759, Test Loss: 0.7654\n",
            "Epoch [15/50], Train Loss: 0.7562, Test Loss: 0.7071\n",
            "Epoch [16/50], Train Loss: 0.7308, Test Loss: 0.7445\n",
            "Epoch [17/50], Train Loss: 0.8120, Test Loss: 0.7023\n",
            "Epoch [18/50], Train Loss: 0.7629, Test Loss: 0.6792\n",
            "Epoch [19/50], Train Loss: 0.7474, Test Loss: 0.7455\n",
            "Epoch [20/50], Train Loss: 0.7194, Test Loss: 0.7555\n",
            "Epoch [21/50], Train Loss: 0.7169, Test Loss: 0.7384\n",
            "Epoch [22/50], Train Loss: 0.7064, Test Loss: 0.6557\n",
            "Epoch [23/50], Train Loss: 0.7088, Test Loss: 0.6430\n",
            "Epoch [24/50], Train Loss: 0.6914, Test Loss: 0.6555\n",
            "Epoch [25/50], Train Loss: 0.7025, Test Loss: 0.6740\n",
            "Epoch [26/50], Train Loss: 0.6731, Test Loss: 0.6488\n",
            "Epoch [27/50], Train Loss: 0.6728, Test Loss: 0.6332\n",
            "Epoch [28/50], Train Loss: 0.7227, Test Loss: 0.7070\n",
            "Epoch [29/50], Train Loss: 0.6796, Test Loss: 0.6396\n",
            "Epoch [30/50], Train Loss: 0.6730, Test Loss: 0.6234\n",
            "Epoch [31/50], Train Loss: 0.6870, Test Loss: 0.6133\n",
            "Epoch [32/50], Train Loss: 0.6906, Test Loss: 0.6545\n",
            "Epoch [33/50], Train Loss: 0.6793, Test Loss: 0.6283\n",
            "Epoch [34/50], Train Loss: 0.6579, Test Loss: 0.6399\n",
            "Epoch [35/50], Train Loss: 0.6567, Test Loss: 0.6345\n",
            "Epoch [36/50], Train Loss: 0.6823, Test Loss: 0.6435\n",
            "Epoch [37/50], Train Loss: 0.6114, Test Loss: 0.6282\n",
            "Epoch [38/50], Train Loss: 0.6312, Test Loss: 0.6965\n",
            "Epoch [39/50], Train Loss: 0.6428, Test Loss: 0.6041\n",
            "Epoch [40/50], Train Loss: 0.6623, Test Loss: 0.6034\n",
            "Epoch [41/50], Train Loss: 0.6587, Test Loss: 0.6437\n",
            "Epoch [42/50], Train Loss: 0.6530, Test Loss: 0.6211\n",
            "Epoch [43/50], Train Loss: 0.6522, Test Loss: 0.7445\n",
            "Epoch [44/50], Train Loss: 0.6815, Test Loss: 0.6135\n",
            "Epoch [45/50], Train Loss: 0.6967, Test Loss: 0.6096\n",
            "Epoch [46/50], Train Loss: 0.6581, Test Loss: 0.6825\n",
            "Epoch [47/50], Train Loss: 0.6758, Test Loss: 0.6040\n",
            "Epoch [48/50], Train Loss: 0.6398, Test Loss: 0.6168\n",
            "Epoch [49/50], Train Loss: 0.6118, Test Loss: 0.6215\n",
            "Epoch [50/50], Train Loss: 0.6250, Test Loss: 0.6411\n"
          ]
        }
      ]
    },
    {
      "cell_type": "code",
      "source": [
        "import matplotlib.pyplot as plt\n",
        "\n",
        "plt.figure(figsize=(8, 5))\n",
        "plt.plot(train_losses, label='Train Loss', marker='o', linestyle='-')\n",
        "plt.plot(test_losses, label='Test Loss', marker='x', linestyle='--')\n",
        "plt.title(\"Train vs Test Loss Over Epochs\")\n",
        "plt.xlabel(\"Epoch\")\n",
        "plt.ylabel(\"Loss\")\n",
        "plt.legend()\n",
        "plt.grid(True)\n",
        "plt.tight_layout()\n",
        "plt.show()\n"
      ],
      "metadata": {
        "colab": {
          "base_uri": "https://localhost:8080/",
          "height": 507
        },
        "id": "s6VZC3UeZBV_",
        "outputId": "95f70d3b-f09f-453f-e754-f77d2f5dc012"
      },
      "execution_count": 66,
      "outputs": [
        {
          "output_type": "display_data",
          "data": {
            "text/plain": [
              "<Figure size 800x500 with 1 Axes>"
            ],
            "image/png": "[encoded data removed]"
          },
          "metadata": {}
        }
      ]
    },
    {
      "cell_type": "code",
      "source": [
        "# Convert lists to numpy arrays for sklearn functions\n",
        "all_preds = np.array(all_preds)\n",
        "all_labels = np.array(all_labels)\n",
        "num_classes=12\n",
        "\n",
        "precision_macro = precision_score(all_labels, all_preds, average='macro', labels=np.arange(num_classes))\n",
        "recall_macro = recall_score(all_labels, all_preds, average='macro', labels=np.arange(num_classes))\n",
        "f1_macro = f1_score(all_labels, all_preds, average='macro', labels=np.arange(num_classes))\n",
        "\n",
        "precision_weighted = precision_score(all_labels, all_preds, average='weighted', labels=np.arange(num_classes))\n",
        "recall_weighted = recall_score(all_labels, all_preds, average='weighted', labels=np.arange(num_classes))\n",
        "f1_weighted = f1_score(all_labels, all_preds, average='weighted', labels=np.arange(num_classes))\n",
        "\n",
        "accuracy = accuracy_score(all_labels, all_preds)\n",
        "\n",
        "# Print all metrics\n",
        "print(f\"Macro Average Precision: {precision_macro:.4f}\")\n",
        "print(f\"Macro Average Recall: {recall_macro:.4f}\")\n",
        "print(f\"Macro Average F1 Score: {f1_macro:.4f}\")\n",
        "\n",
        "print(f\"Weighted Average Precision: {precision_weighted:.4f}\")\n",
        "print(f\"Weighted Average Recall: {recall_weighted:.4f}\")\n",
        "print(f\"Weighted Average F1 Score: {f1_weighted:.4f}\")\n",
        "\n",
        "print(f\"Accuracy: {accuracy:.4f}\")"
      ],
      "metadata": {
        "colab": {
          "base_uri": "https://localhost:8080/"
        },
        "id": "r08NHPDsTZmx",
        "outputId": "0688b1f4-1a13-4676-9d3e-5f22f8c643c1"
      },
      "execution_count": 67,
      "outputs": [
        {
          "output_type": "stream",
          "name": "stdout",
          "text": [
            "Macro Average Precision: 0.3274\n",
            "Macro Average Recall: 0.2876\n",
            "Macro Average F1 Score: 0.2947\n",
            "Weighted Average Precision: 0.7783\n",
            "Weighted Average Recall: 0.8260\n",
            "Weighted Average F1 Score: 0.7892\n",
            "Accuracy: 0.8260\n"
          ]
        },
        {
          "output_type": "stream",
          "name": "stderr",
          "text": [
            "/usr/local/lib/python3.11/dist-packages/sklearn/metrics/_classification.py:1565: UndefinedMetricWarning: Precision is ill-defined and being set to 0.0 in labels with no predicted samples. Use `zero_division` parameter to control this behavior.\n",
            "  _warn_prf(average, modifier, f\"{metric.capitalize()} is\", len(result))\n",
            "/usr/local/lib/python3.11/dist-packages/sklearn/metrics/_classification.py:1565: UndefinedMetricWarning: Recall is ill-defined and being set to 0.0 in labels with no true samples. Use `zero_division` parameter to control this behavior.\n",
            "  _warn_prf(average, modifier, f\"{metric.capitalize()} is\", len(result))\n",
            "/usr/local/lib/python3.11/dist-packages/sklearn/metrics/_classification.py:1565: UndefinedMetricWarning: F-score is ill-defined and being set to 0.0 in labels with no true nor predicted samples. Use `zero_division` parameter to control this behavior.\n",
            "  _warn_prf(average, modifier, f\"{metric.capitalize()} is\", len(result))\n",
            "/usr/local/lib/python3.11/dist-packages/sklearn/metrics/_classification.py:1565: UndefinedMetricWarning: Precision is ill-defined and being set to 0.0 in labels with no predicted samples. Use `zero_division` parameter to control this behavior.\n",
            "  _warn_prf(average, modifier, f\"{metric.capitalize()} is\", len(result))\n",
            "/usr/local/lib/python3.11/dist-packages/sklearn/metrics/_classification.py:1565: UndefinedMetricWarning: Recall is ill-defined and being set to 0.0 in labels with no true samples. Use `zero_division` parameter to control this behavior.\n",
            "  _warn_prf(average, modifier, f\"{metric.capitalize()} is\", len(result))\n",
            "/usr/local/lib/python3.11/dist-packages/sklearn/metrics/_classification.py:1565: UndefinedMetricWarning: F-score is ill-defined and being set to 0.0 in labels with no true nor predicted samples. Use `zero_division` parameter to control this behavior.\n",
            "  _warn_prf(average, modifier, f\"{metric.capitalize()} is\", len(result))\n"
          ]
        }
      ]
    },
    {
      "cell_type": "code",
      "source": [
        "# Save the model (after training)\n",
        "torch.save(model.state_dict(), \"best_lstm_model_hazard.pth\")\n"
      ],
      "metadata": {
        "id": "IzLBgQ6nTffw"
      },
      "execution_count": 68,
      "outputs": []
    },
    {
      "cell_type": "code",
      "source": [],
      "metadata": {
        "id": "hFRWn8yQiz-P"
      },
      "execution_count": null,
      "outputs": []
    }
  ]
}