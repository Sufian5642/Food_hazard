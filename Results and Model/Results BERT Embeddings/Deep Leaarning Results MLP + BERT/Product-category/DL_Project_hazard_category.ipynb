{
  "nbformat": 4,
  "nbformat_minor": 0,
  "metadata": {
    "colab": {
      "provenance": [],
      "gpuType": "T4"
    },
    "kernelspec": {
      "name": "python3",
      "display_name": "Python 3"
    },
    "language_info": {
      "name": "python"
    },
    "accelerator": "GPU"
  },
  "cells": [
    {
      "cell_type": "code",
      "source": [
        "import pandas as pd\n",
        "import pickle\n",
        "import numpy as np\n",
        "from sklearn.model_selection import train_test_split\n",
        "from sklearn.metrics import f1_score, precision_score, recall_score, accuracy_score\n",
        "from sklearn.preprocessing import LabelEncoder\n",
        "import torch\n",
        "from torch.utils.data import Dataset, DataLoader\n",
        "import torch.nn as nn\n",
        "import torch.optim as optim\n",
        "from sklearn.metrics import f1_score\n",
        "from sklearn.metrics import confusion_matrix, ConfusionMatrixDisplay\n",
        "import matplotlib.pyplot as plt\n",
        "import seaborn as sns\n"
      ],
      "metadata": {
        "id": "WFbXTqPyH9Rv"
      },
      "execution_count": 1,
      "outputs": []
    },
    {
      "cell_type": "code",
      "source": [
        "train_emb_path = '/content/roberta_embeddings_train.pkl'\n",
        "test_emb_path = '/content/roberta_embeddings_test.pkl'\n",
        "train_labels_path = '/content/incidents_train_clean_excel.xlsx'\n",
        "test_labels_path = '/content/incidents_test_clean_excel.xlsx'"
      ],
      "metadata": {
        "id": "9siIqlKoIAoj"
      },
      "execution_count": 2,
      "outputs": []
    },
    {
      "cell_type": "code",
      "source": [
        "def load_embeddings(path):\n",
        "    with open(path, 'rb') as f:\n",
        "        return pickle.load(f)"
      ],
      "metadata": {
        "id": "ldzx1MdPIy-h"
      },
      "execution_count": 3,
      "outputs": []
    },
    {
      "cell_type": "code",
      "source": [
        "X = load_embeddings(train_emb_path)"
      ],
      "metadata": {
        "id": "n97fdRUkO5Yj"
      },
      "execution_count": 4,
      "outputs": []
    },
    {
      "cell_type": "code",
      "source": [
        "X_embed = np.array([np.array(emb, dtype=np.float32) for emb in X])\n"
      ],
      "metadata": {
        "id": "nxe3quCkI9EC"
      },
      "execution_count": 5,
      "outputs": []
    },
    {
      "cell_type": "code",
      "source": [
        "# --- Load the labels ---\n",
        "X_label = pd.read_excel(train_labels_path)\n"
      ],
      "metadata": {
        "id": "p9SpEVYRO8F6"
      },
      "execution_count": 6,
      "outputs": []
    },
    {
      "cell_type": "code",
      "source": [
        "len(X_label[\"product-category\"].unique())"
      ],
      "metadata": {
        "colab": {
          "base_uri": "https://localhost:8080/"
        },
        "id": "_PtYc-QQJzrM",
        "outputId": "6f3b4e85-cbed-4e87-8e4d-eb0e57488976"
      },
      "execution_count": 146,
      "outputs": [
        {
          "output_type": "execute_result",
          "data": {
            "text/plain": [
              "24"
            ]
          },
          "metadata": {},
          "execution_count": 146
        }
      ]
    },
    {
      "cell_type": "code",
      "source": [
        "X_embed.shape"
      ],
      "metadata": {
        "colab": {
          "base_uri": "https://localhost:8080/"
        },
        "id": "WXMnZKaXQzCW",
        "outputId": "de9a827c-ad04-4cb7-b35a-796244169a09"
      },
      "execution_count": 147,
      "outputs": [
        {
          "output_type": "execute_result",
          "data": {
            "text/plain": [
              "(5084, 1024)"
            ]
          },
          "metadata": {},
          "execution_count": 147
        }
      ]
    },
    {
      "cell_type": "markdown",
      "source": [
        "**Hazard-category**"
      ],
      "metadata": {
        "id": "lraus9BPJ7T1"
      }
    },
    {
      "cell_type": "code",
      "execution_count": 148,
      "metadata": {
        "id": "x65jBPs8GogW"
      },
      "outputs": [],
      "source": [
        "X_labels = X_label[\"product-category\"]"
      ]
    },
    {
      "cell_type": "code",
      "source": [
        "X_train, X_test, y_train, y_test = train_test_split(X_embed, X_labels, test_size=0.2, random_state=42)\n"
      ],
      "metadata": {
        "id": "t0RYTmv3pAdb"
      },
      "execution_count": 149,
      "outputs": []
    },
    {
      "cell_type": "code",
      "source": [
        "# Now X_train, y_train, X_test, y_test are ready\n",
        "print(\"Train shape:\", X_train.shape, y_train.shape)\n",
        "print(\"Test shape:\", X_test.shape, y_test.shape)"
      ],
      "metadata": {
        "colab": {
          "base_uri": "https://localhost:8080/"
        },
        "id": "x5RE484mo-fs",
        "outputId": "0719260b-e924-4e9f-eb5a-881734482ce3"
      },
      "execution_count": 150,
      "outputs": [
        {
          "output_type": "stream",
          "name": "stdout",
          "text": [
            "Train shape: (4067, 1024) (4067,)\n",
            "Test shape: (1017, 1024) (1017,)\n"
          ]
        }
      ]
    },
    {
      "cell_type": "code",
      "source": [
        "label_encoder = LabelEncoder()\n",
        "y_train = label_encoder.fit_transform(y_train)\n",
        "y_test = label_encoder.transform(y_test)"
      ],
      "metadata": {
        "id": "Rj5tm40gPR0e"
      },
      "execution_count": 151,
      "outputs": []
    },
    {
      "cell_type": "code",
      "source": [
        "# Now X_train, y_train, X_test, y_test are ready\n",
        "print(\"Train shape:\", X_train.shape, y_train.shape)\n",
        "print(\"Test shape:\", X_test.shape, y_test.shape)"
      ],
      "metadata": {
        "colab": {
          "base_uri": "https://localhost:8080/"
        },
        "id": "0w2pFK6CRC6a",
        "outputId": "ea15a281-2d28-4749-f652-e1a6655db422"
      },
      "execution_count": 152,
      "outputs": [
        {
          "output_type": "stream",
          "name": "stdout",
          "text": [
            "Train shape: (4067, 1024) (4067,)\n",
            "Test shape: (1017, 1024) (1017,)\n"
          ]
        }
      ]
    },
    {
      "cell_type": "code",
      "source": [
        "class EmbeddingDataset(Dataset):\n",
        "    def __init__(self, embeddings, labels):\n",
        "        self.embeddings = torch.tensor(embeddings, dtype=torch.float32)\n",
        "        self.labels = torch.tensor(labels, dtype=torch.long)\n",
        "\n",
        "    def __len__(self):\n",
        "        return len(self.embeddings)\n",
        "\n",
        "    def __getitem__(self, idx):\n",
        "        return self.embeddings[idx], self.labels[idx]\n"
      ],
      "metadata": {
        "id": "7pfTIBc5KMk9"
      },
      "execution_count": 153,
      "outputs": []
    },
    {
      "cell_type": "code",
      "source": [
        "train_dataset = EmbeddingDataset(X_train, y_train)\n",
        "test_dataset = EmbeddingDataset(X_test, y_test)\n"
      ],
      "metadata": {
        "id": "QOgjOE6VL4DW"
      },
      "execution_count": 154,
      "outputs": []
    },
    {
      "cell_type": "code",
      "source": [
        "device = torch.device(\"cuda\" if torch.cuda.is_available() else \"cpu\")"
      ],
      "metadata": {
        "id": "hawCS4ROCYd2"
      },
      "execution_count": 155,
      "outputs": []
    },
    {
      "cell_type": "code",
      "source": [
        "train_loader = DataLoader(train_dataset, batch_size=32, shuffle=True)\n",
        "test_loader = DataLoader(test_dataset, batch_size=32)"
      ],
      "metadata": {
        "id": "I1LJqn1AL6IP"
      },
      "execution_count": 156,
      "outputs": []
    },
    {
      "cell_type": "code",
      "source": [
        "class TextClassificationMLP(nn.Module):\n",
        "    def __init__(self, input_size=1024, hidden_sizes=[512, 256], num_classes=24, dropout=0.5):\n",
        "        super(TextClassificationMLP, self).__init__()\n",
        "\n",
        "        self.model = nn.Sequential(\n",
        "            nn.Linear(input_size, hidden_sizes[0]),\n",
        "            nn.BatchNorm1d(hidden_sizes[0]),\n",
        "            nn.ReLU(),\n",
        "            nn.Dropout(dropout),\n",
        "\n",
        "\n",
        "\n",
        "\n",
        "            nn.Linear(hidden_sizes[0], hidden_sizes[1]),\n",
        "            nn.BatchNorm1d(hidden_sizes[1]),\n",
        "            nn.ReLU(),\n",
        "            nn.Dropout(dropout),\n",
        "\n",
        "            nn.Linear(hidden_sizes[1], num_classes)\n",
        "        )\n",
        "\n",
        "    def forward(self, x):\n",
        "        return self.model(x)\n",
        "\n",
        "\n"
      ],
      "metadata": {
        "id": "3XAYS-ZCRgDg"
      },
      "execution_count": 183,
      "outputs": []
    },
    {
      "cell_type": "code",
      "source": [
        "# Model initialization\n",
        "model = TextClassificationMLP()\n",
        "\n",
        "# Loss function (CrossEntropy for multi-class classification)\n",
        "criterion = nn.CrossEntropyLoss()\n",
        "\n",
        "# Optimizer (Adam optimizer)\n",
        "optimizer = optim.Adam(model.parameters(), lr=0.001)\n",
        "\n",
        "# 4. Training loop\n",
        "epochs = 50  # Set the number of epochs\n",
        "\n",
        "# Move the model to GPU if available\n",
        "device = torch.device(\"cuda\" if torch.cuda.is_available() else \"cpu\")\n",
        "model.to(device)"
      ],
      "metadata": {
        "colab": {
          "base_uri": "https://localhost:8080/"
        },
        "id": "qFT11_Q1TJUa",
        "outputId": "57320709-d934-4a6f-82ab-314fe297be8f"
      },
      "execution_count": 184,
      "outputs": [
        {
          "output_type": "execute_result",
          "data": {
            "text/plain": [
              "TextClassificationMLP(\n",
              "  (model): Sequential(\n",
              "    (0): Linear(in_features=1024, out_features=512, bias=True)\n",
              "    (1): BatchNorm1d(512, eps=1e-05, momentum=0.1, affine=True, track_running_stats=True)\n",
              "    (2): ReLU()\n",
              "    (3): Dropout(p=0.5, inplace=False)\n",
              "    (4): Linear(in_features=512, out_features=256, bias=True)\n",
              "    (5): BatchNorm1d(256, eps=1e-05, momentum=0.1, affine=True, track_running_stats=True)\n",
              "    (6): ReLU()\n",
              "    (7): Dropout(p=0.5, inplace=False)\n",
              "    (8): Linear(in_features=256, out_features=24, bias=True)\n",
              "  )\n",
              ")"
            ]
          },
          "metadata": {},
          "execution_count": 184
        }
      ]
    },
    {
      "cell_type": "code",
      "source": [
        "def count_parameters(model):\n",
        "    return sum(p.numel() for p in model.parameters())\n",
        "\n",
        "# Print the total number of parameters\n",
        "print(f\"Total number of parameters: {count_parameters(model)}\")"
      ],
      "metadata": {
        "colab": {
          "base_uri": "https://localhost:8080/"
        },
        "id": "R1BlA8441AeH",
        "outputId": "138abbd5-10d7-4626-8e01-61220259eb0b"
      },
      "execution_count": 185,
      "outputs": [
        {
          "output_type": "stream",
          "name": "stdout",
          "text": [
            "Total number of parameters: 663832\n"
          ]
        }
      ]
    },
    {
      "cell_type": "code",
      "source": [
        "train_losses = []\n",
        "test_losses = []"
      ],
      "metadata": {
        "id": "DVUOAAn3V8v8"
      },
      "execution_count": 186,
      "outputs": []
    },
    {
      "cell_type": "code",
      "source": [
        "for epoch in range(epochs):\n",
        "    model.train()  # Set the model to training mode\n",
        "    running_loss = 0.0\n",
        "\n",
        "    for inputs, labels in train_loader:\n",
        "        inputs, labels = inputs.to(device), labels.to(device)\n",
        "\n",
        "        # No need to unsqueeze for MLP\n",
        "        optimizer.zero_grad()\n",
        "        outputs = model(inputs)\n",
        "        loss = criterion(outputs, labels)\n",
        "        loss.backward()\n",
        "        optimizer.step()\n",
        "\n",
        "        running_loss += loss.item()\n",
        "\n",
        "    avg_train_loss = running_loss / len(train_loader)\n",
        "    train_losses.append(avg_train_loss)\n",
        "\n",
        "    # 🔁 Evaluate on test data within each epoch\n",
        "    model.eval()\n",
        "    all_preds = []\n",
        "    all_labels = []\n",
        "    test_loss = 0.0\n",
        "\n",
        "    with torch.no_grad():\n",
        "        for inputs, labels in test_loader:\n",
        "            inputs, labels = inputs.to(device), labels.to(device)\n",
        "            outputs = model(inputs)\n",
        "            loss = criterion(outputs, labels)\n",
        "            test_loss += loss.item()\n",
        "\n",
        "            _, predicted = torch.max(outputs, 1)\n",
        "            all_preds.extend(predicted.cpu().numpy())\n",
        "            all_labels.extend(labels.cpu().numpy())\n",
        "\n",
        "    avg_test_loss = test_loss / len(test_loader)\n",
        "    test_losses.append(avg_test_loss)\n",
        "\n",
        "    print(f\"Epoch [{epoch+1}/{epochs}], Train Loss: {avg_train_loss:.4f}, Test Loss: {avg_test_loss:.4f}\")\n",
        "\n",
        "\n",
        "\n",
        "\n"
      ],
      "metadata": {
        "colab": {
          "base_uri": "https://localhost:8080/"
        },
        "id": "FP57RRKMSyZO",
        "outputId": "ae890f6b-5dba-4b44-eb86-053c631442dc"
      },
      "execution_count": 187,
      "outputs": [
        {
          "output_type": "stream",
          "name": "stdout",
          "text": [
            "Epoch [1/50], Train Loss: 2.5067, Test Loss: 2.2766\n",
            "Epoch [2/50], Train Loss: 2.3180, Test Loss: 2.2074\n",
            "Epoch [3/50], Train Loss: 2.2549, Test Loss: 2.1344\n",
            "Epoch [4/50], Train Loss: 2.1613, Test Loss: 2.0672\n",
            "Epoch [5/50], Train Loss: 2.1082, Test Loss: 2.0225\n",
            "Epoch [6/50], Train Loss: 2.0649, Test Loss: 1.9763\n",
            "Epoch [7/50], Train Loss: 2.0097, Test Loss: 1.9791\n",
            "Epoch [8/50], Train Loss: 1.9747, Test Loss: 1.9348\n",
            "Epoch [9/50], Train Loss: 1.9551, Test Loss: 1.8874\n",
            "Epoch [10/50], Train Loss: 1.8815, Test Loss: 1.9506\n",
            "Epoch [11/50], Train Loss: 1.8882, Test Loss: 1.8233\n",
            "Epoch [12/50], Train Loss: 1.8635, Test Loss: 1.7895\n",
            "Epoch [13/50], Train Loss: 1.8086, Test Loss: 1.8334\n",
            "Epoch [14/50], Train Loss: 1.7808, Test Loss: 1.7678\n",
            "Epoch [15/50], Train Loss: 1.7459, Test Loss: 1.7453\n",
            "Epoch [16/50], Train Loss: 1.7254, Test Loss: 1.7762\n",
            "Epoch [17/50], Train Loss: 1.7265, Test Loss: 1.6875\n",
            "Epoch [18/50], Train Loss: 1.6835, Test Loss: 1.6671\n",
            "Epoch [19/50], Train Loss: 1.6838, Test Loss: 1.6724\n",
            "Epoch [20/50], Train Loss: 1.6548, Test Loss: 1.6609\n",
            "Epoch [21/50], Train Loss: 1.6660, Test Loss: 1.6957\n",
            "Epoch [22/50], Train Loss: 1.6471, Test Loss: 1.6412\n",
            "Epoch [23/50], Train Loss: 1.6097, Test Loss: 1.6708\n",
            "Epoch [24/50], Train Loss: 1.6102, Test Loss: 1.5957\n",
            "Epoch [25/50], Train Loss: 1.6134, Test Loss: 1.6275\n",
            "Epoch [26/50], Train Loss: 1.5659, Test Loss: 1.6732\n",
            "Epoch [27/50], Train Loss: 1.5424, Test Loss: 1.5960\n",
            "Epoch [28/50], Train Loss: 1.5297, Test Loss: 1.5816\n",
            "Epoch [29/50], Train Loss: 1.5229, Test Loss: 1.5888\n",
            "Epoch [30/50], Train Loss: 1.5301, Test Loss: 1.6173\n",
            "Epoch [31/50], Train Loss: 1.5299, Test Loss: 1.5456\n",
            "Epoch [32/50], Train Loss: 1.5002, Test Loss: 1.5804\n",
            "Epoch [33/50], Train Loss: 1.4585, Test Loss: 1.5599\n",
            "Epoch [34/50], Train Loss: 1.4847, Test Loss: 1.5556\n",
            "Epoch [35/50], Train Loss: 1.4458, Test Loss: 1.5704\n",
            "Epoch [36/50], Train Loss: 1.4321, Test Loss: 1.5874\n",
            "Epoch [37/50], Train Loss: 1.4625, Test Loss: 1.5788\n",
            "Epoch [38/50], Train Loss: 1.4498, Test Loss: 1.5532\n",
            "Epoch [39/50], Train Loss: 1.4389, Test Loss: 1.5296\n",
            "Epoch [40/50], Train Loss: 1.3875, Test Loss: 1.5149\n",
            "Epoch [41/50], Train Loss: 1.4191, Test Loss: 1.5305\n",
            "Epoch [42/50], Train Loss: 1.3980, Test Loss: 1.5670\n",
            "Epoch [43/50], Train Loss: 1.3576, Test Loss: 1.4849\n",
            "Epoch [44/50], Train Loss: 1.3459, Test Loss: 1.5108\n",
            "Epoch [45/50], Train Loss: 1.3087, Test Loss: 1.4858\n",
            "Epoch [46/50], Train Loss: 1.3458, Test Loss: 1.5362\n",
            "Epoch [47/50], Train Loss: 1.3321, Test Loss: 1.4996\n",
            "Epoch [48/50], Train Loss: 1.3481, Test Loss: 1.5334\n",
            "Epoch [49/50], Train Loss: 1.3571, Test Loss: 1.5659\n",
            "Epoch [50/50], Train Loss: 1.3526, Test Loss: 1.5153\n"
          ]
        }
      ]
    },
    {
      "cell_type": "code",
      "source": [
        "import matplotlib.pyplot as plt\n",
        "\n",
        "plt.figure(figsize=(8, 5))\n",
        "plt.plot(train_losses, label='Train Loss', marker='o', linestyle='-')\n",
        "plt.plot(test_losses, label='Test Loss', marker='x', linestyle='--')\n",
        "plt.title(\"Train vs Test Loss Over Epochs\")\n",
        "plt.xlabel(\"Epoch\")\n",
        "plt.ylabel(\"Loss\")\n",
        "plt.legend()\n",
        "plt.grid(True)\n",
        "plt.tight_layout()\n",
        "plt.show()\n"
      ],
      "metadata": {
        "colab": {
          "base_uri": "https://localhost:8080/",
          "height": 507
        },
        "id": "s6VZC3UeZBV_",
        "outputId": "a36575c3-fe5d-4f46-d6d6-1f3f2cff1e01"
      },
      "execution_count": 188,
      "outputs": [
        {
          "output_type": "display_data",
          "data": {
            "text/plain": [
              "<Figure size 800x500 with 1 Axes>"
            ],
            "image/png": "[encoded data removed]"
          },
          "metadata": {}
        }
      ]
    },
    {
      "cell_type": "code",
      "source": [
        "# Convert lists to numpy arrays for sklearn functions\n",
        "all_preds = np.array(all_preds)\n",
        "all_labels = np.array(all_labels)\n",
        "num_classes=24\n",
        "\n",
        "precision_macro = precision_score(all_labels, all_preds, average='macro', labels=np.arange(num_classes))\n",
        "recall_macro = recall_score(all_labels, all_preds, average='macro', labels=np.arange(num_classes))\n",
        "f1_macro = f1_score(all_labels, all_preds, average='macro', labels=np.arange(num_classes))\n",
        "\n",
        "precision_weighted = precision_score(all_labels, all_preds, average='weighted', labels=np.arange(num_classes))\n",
        "recall_weighted = recall_score(all_labels, all_preds, average='weighted', labels=np.arange(num_classes))\n",
        "f1_weighted = f1_score(all_labels, all_preds, average='weighted', labels=np.arange(num_classes))\n",
        "\n",
        "accuracy = accuracy_score(all_labels, all_preds)\n",
        "\n",
        "# Print all metrics\n",
        "print(f\"Macro Average Precision: {precision_macro:.4f}\")\n",
        "print(f\"Macro Average Recall: {recall_macro:.4f}\")\n",
        "print(f\"Macro Average F1 Score: {f1_macro:.4f}\")\n",
        "\n",
        "print(f\"Weighted Average Precision: {precision_weighted:.4f}\")\n",
        "print(f\"Weighted Average Recall: {recall_weighted:.4f}\")\n",
        "print(f\"Weighted Average F1 Score: {f1_weighted:.4f}\")\n",
        "\n",
        "print(f\"Accuracy: {accuracy:.4f}\")"
      ],
      "metadata": {
        "colab": {
          "base_uri": "https://localhost:8080/"
        },
        "id": "r08NHPDsTZmx",
        "outputId": "5434441d-2964-448d-cf24-ef44c8d01973"
      },
      "execution_count": 189,
      "outputs": [
        {
          "output_type": "stream",
          "name": "stdout",
          "text": [
            "Macro Average Precision: 0.3805\n",
            "Macro Average Recall: 0.2810\n",
            "Macro Average F1 Score: 0.3018\n",
            "Weighted Average Precision: 0.5246\n",
            "Weighted Average Recall: 0.5408\n",
            "Weighted Average F1 Score: 0.5031\n",
            "Accuracy: 0.5408\n"
          ]
        },
        {
          "output_type": "stream",
          "name": "stderr",
          "text": [
            "/usr/local/lib/python3.11/dist-packages/sklearn/metrics/_classification.py:1565: UndefinedMetricWarning: Precision is ill-defined and being set to 0.0 in labels with no predicted samples. Use `zero_division` parameter to control this behavior.\n",
            "  _warn_prf(average, modifier, f\"{metric.capitalize()} is\", len(result))\n",
            "/usr/local/lib/python3.11/dist-packages/sklearn/metrics/_classification.py:1565: UndefinedMetricWarning: Recall is ill-defined and being set to 0.0 in labels with no true samples. Use `zero_division` parameter to control this behavior.\n",
            "  _warn_prf(average, modifier, f\"{metric.capitalize()} is\", len(result))\n",
            "/usr/local/lib/python3.11/dist-packages/sklearn/metrics/_classification.py:1565: UndefinedMetricWarning: F-score is ill-defined and being set to 0.0 in labels with no true nor predicted samples. Use `zero_division` parameter to control this behavior.\n",
            "  _warn_prf(average, modifier, f\"{metric.capitalize()} is\", len(result))\n",
            "/usr/local/lib/python3.11/dist-packages/sklearn/metrics/_classification.py:1565: UndefinedMetricWarning: Precision is ill-defined and being set to 0.0 in labels with no predicted samples. Use `zero_division` parameter to control this behavior.\n",
            "  _warn_prf(average, modifier, f\"{metric.capitalize()} is\", len(result))\n",
            "/usr/local/lib/python3.11/dist-packages/sklearn/metrics/_classification.py:1565: UndefinedMetricWarning: Recall is ill-defined and being set to 0.0 in labels with no true samples. Use `zero_division` parameter to control this behavior.\n",
            "  _warn_prf(average, modifier, f\"{metric.capitalize()} is\", len(result))\n",
            "/usr/local/lib/python3.11/dist-packages/sklearn/metrics/_classification.py:1565: UndefinedMetricWarning: F-score is ill-defined and being set to 0.0 in labels with no true nor predicted samples. Use `zero_division` parameter to control this behavior.\n",
            "  _warn_prf(average, modifier, f\"{metric.capitalize()} is\", len(result))\n"
          ]
        }
      ]
    },
    {
      "cell_type": "code",
      "source": [
        "# Save the model (after training)\n",
        "torch.save(model.state_dict(), \"best_lstm_model_hazard.pth\")\n"
      ],
      "metadata": {
        "id": "IzLBgQ6nTffw"
      },
      "execution_count": 190,
      "outputs": []
    },
    {
      "cell_type": "code",
      "source": [],
      "metadata": {
        "id": "hFRWn8yQiz-P"
      },
      "execution_count": null,
      "outputs": []
    }
  ]
}