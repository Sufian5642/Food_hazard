{
  "nbformat": 4,
  "nbformat_minor": 0,
  "metadata": {
    "colab": {
      "provenance": [],
      "gpuType": "T4"
    },
    "kernelspec": {
      "name": "python3",
      "display_name": "Python 3"
    },
    "language_info": {
      "name": "python"
    },
    "accelerator": "GPU"
  },
  "cells": [
    {
      "cell_type": "code",
      "source": [
        "import pandas as pd\n",
        "import pickle\n",
        "import numpy as np\n",
        "from sklearn.model_selection import train_test_split\n",
        "from sklearn.metrics import f1_score, precision_score, recall_score, accuracy_score\n",
        "from sklearn.preprocessing import LabelEncoder\n",
        "import torch\n",
        "from torch.utils.data import Dataset, DataLoader\n",
        "import torch.nn as nn\n",
        "import torch.optim as optim\n",
        "from sklearn.metrics import f1_score\n",
        "from sklearn.metrics import confusion_matrix, ConfusionMatrixDisplay\n",
        "import matplotlib.pyplot as plt\n",
        "import seaborn as sns\n"
      ],
      "metadata": {
        "id": "WFbXTqPyH9Rv"
      },
      "execution_count": 1,
      "outputs": []
    },
    {
      "cell_type": "code",
      "source": [
        "train_emb_path = '/content/roberta_embeddings_train.pkl'\n",
        "test_emb_path = '/content/roberta_embeddings_test.pkl'\n",
        "train_labels_path = '/content/incidents_train_clean_excel.xlsx'\n",
        "test_labels_path = '/content/incidents_test_clean_excel.xlsx'"
      ],
      "metadata": {
        "id": "9siIqlKoIAoj"
      },
      "execution_count": 2,
      "outputs": []
    },
    {
      "cell_type": "code",
      "source": [
        "def load_embeddings(path):\n",
        "    with open(path, 'rb') as f:\n",
        "        return pickle.load(f)"
      ],
      "metadata": {
        "id": "ldzx1MdPIy-h"
      },
      "execution_count": 3,
      "outputs": []
    },
    {
      "cell_type": "code",
      "source": [
        "X = load_embeddings(train_emb_path)"
      ],
      "metadata": {
        "id": "n97fdRUkO5Yj"
      },
      "execution_count": 4,
      "outputs": []
    },
    {
      "cell_type": "code",
      "source": [
        "X_embed = np.array([np.array(emb, dtype=np.float32) for emb in X])\n"
      ],
      "metadata": {
        "id": "nxe3quCkI9EC"
      },
      "execution_count": 5,
      "outputs": []
    },
    {
      "cell_type": "code",
      "source": [
        "# --- Load the labels ---\n",
        "X_label = pd.read_excel(train_labels_path)\n"
      ],
      "metadata": {
        "id": "p9SpEVYRO8F6"
      },
      "execution_count": 6,
      "outputs": []
    },
    {
      "cell_type": "code",
      "source": [
        "len(X_label[\"product\"].unique())"
      ],
      "metadata": {
        "colab": {
          "base_uri": "https://localhost:8080/"
        },
        "id": "_PtYc-QQJzrM",
        "outputId": "f61e2284-9e4a-4181-e8a0-0143638d874e"
      },
      "execution_count": 191,
      "outputs": [
        {
          "output_type": "execute_result",
          "data": {
            "text/plain": [
              "1024"
            ]
          },
          "metadata": {},
          "execution_count": 191
        }
      ]
    },
    {
      "cell_type": "code",
      "source": [
        "X_embed.shape"
      ],
      "metadata": {
        "colab": {
          "base_uri": "https://localhost:8080/"
        },
        "id": "WXMnZKaXQzCW",
        "outputId": "2c44b46b-82da-4eca-b502-7b7d092c437d"
      },
      "execution_count": 192,
      "outputs": [
        {
          "output_type": "execute_result",
          "data": {
            "text/plain": [
              "(5084, 1024)"
            ]
          },
          "metadata": {},
          "execution_count": 192
        }
      ]
    },
    {
      "cell_type": "markdown",
      "source": [
        "**Hazard-category**"
      ],
      "metadata": {
        "id": "lraus9BPJ7T1"
      }
    },
    {
      "cell_type": "code",
      "execution_count": 193,
      "metadata": {
        "id": "x65jBPs8GogW"
      },
      "outputs": [],
      "source": [
        "X_labels = X_label[\"product\"]"
      ]
    },
    {
      "cell_type": "code",
      "source": [
        "X_train, X_test, y_train, y_test = train_test_split(X_embed, X_labels, test_size=0.2, random_state=42)\n"
      ],
      "metadata": {
        "id": "t0RYTmv3pAdb"
      },
      "execution_count": 194,
      "outputs": []
    },
    {
      "cell_type": "code",
      "source": [
        "# Now X_train, y_train, X_test, y_test are ready\n",
        "print(\"Train shape:\", X_train.shape, y_train.shape)\n",
        "print(\"Test shape:\", X_test.shape, y_test.shape)"
      ],
      "metadata": {
        "colab": {
          "base_uri": "https://localhost:8080/"
        },
        "id": "x5RE484mo-fs",
        "outputId": "06d9a7a2-0dc6-4407-a59a-d6eac76c7ae4"
      },
      "execution_count": 195,
      "outputs": [
        {
          "output_type": "stream",
          "name": "stdout",
          "text": [
            "Train shape: (4067, 1024) (4067,)\n",
            "Test shape: (1017, 1024) (1017,)\n"
          ]
        }
      ]
    },
    {
      "cell_type": "code",
      "source": [
        "label_encoder = LabelEncoder()\n",
        "y_train = label_encoder.fit_transform(y_train)\n",
        "y_test = label_encoder.fit_transform(y_test)"
      ],
      "metadata": {
        "id": "Rj5tm40gPR0e"
      },
      "execution_count": 197,
      "outputs": []
    },
    {
      "cell_type": "code",
      "source": [
        "# Now X_train, y_train, X_test, y_test are ready\n",
        "print(\"Train shape:\", X_train.shape, y_train.shape)\n",
        "print(\"Test shape:\", X_test.shape, y_test.shape)"
      ],
      "metadata": {
        "colab": {
          "base_uri": "https://localhost:8080/"
        },
        "id": "0w2pFK6CRC6a",
        "outputId": "9421d7ca-be6c-4d60-fd52-5612f25f5c63"
      },
      "execution_count": 198,
      "outputs": [
        {
          "output_type": "stream",
          "name": "stdout",
          "text": [
            "Train shape: (4067, 1024) (4067,)\n",
            "Test shape: (1017, 1024) (1017,)\n"
          ]
        }
      ]
    },
    {
      "cell_type": "code",
      "source": [
        "class EmbeddingDataset(Dataset):\n",
        "    def __init__(self, embeddings, labels):\n",
        "        self.embeddings = torch.tensor(embeddings, dtype=torch.float32)\n",
        "        self.labels = torch.tensor(labels, dtype=torch.long)\n",
        "\n",
        "    def __len__(self):\n",
        "        return len(self.embeddings)\n",
        "\n",
        "    def __getitem__(self, idx):\n",
        "        return self.embeddings[idx], self.labels[idx]\n"
      ],
      "metadata": {
        "id": "7pfTIBc5KMk9"
      },
      "execution_count": 199,
      "outputs": []
    },
    {
      "cell_type": "code",
      "source": [
        "train_dataset = EmbeddingDataset(X_train, y_train)\n",
        "test_dataset = EmbeddingDataset(X_test, y_test)\n"
      ],
      "metadata": {
        "id": "QOgjOE6VL4DW"
      },
      "execution_count": 200,
      "outputs": []
    },
    {
      "cell_type": "code",
      "source": [
        "device = torch.device(\"cuda\" if torch.cuda.is_available() else \"cpu\")"
      ],
      "metadata": {
        "id": "hawCS4ROCYd2"
      },
      "execution_count": 201,
      "outputs": []
    },
    {
      "cell_type": "code",
      "source": [
        "train_loader = DataLoader(train_dataset, batch_size=32, shuffle=True)\n",
        "test_loader = DataLoader(test_dataset, batch_size=32)"
      ],
      "metadata": {
        "id": "I1LJqn1AL6IP"
      },
      "execution_count": 202,
      "outputs": []
    },
    {
      "cell_type": "code",
      "source": [
        "class TextClassificationMLP(nn.Module):\n",
        "    def __init__(self, input_size=1024, hidden_sizes=[128, 64], num_classes=1024, dropout=0.5):\n",
        "        super(TextClassificationMLP, self).__init__()\n",
        "\n",
        "        self.model = nn.Sequential(\n",
        "            nn.Linear(input_size, hidden_sizes[0]),\n",
        "            nn.BatchNorm1d(hidden_sizes[0]),\n",
        "            nn.ReLU(),\n",
        "            nn.Dropout(dropout),\n",
        "\n",
        "            nn.Linear(hidden_sizes[0], hidden_sizes[1]),\n",
        "            nn.BatchNorm1d(hidden_sizes[1]),\n",
        "            nn.ReLU(),\n",
        "            nn.Dropout(dropout),\n",
        "\n",
        "            nn.Linear(hidden_sizes[1], num_classes)\n",
        "        )\n",
        "\n",
        "    def forward(self, x):\n",
        "        return self.model(x)\n",
        "\n",
        "\n"
      ],
      "metadata": {
        "id": "3XAYS-ZCRgDg"
      },
      "execution_count": 237,
      "outputs": []
    },
    {
      "cell_type": "code",
      "source": [
        "# Model initialization\n",
        "model = TextClassificationMLP()\n",
        "\n",
        "# Loss function (CrossEntropy for multi-class classification)\n",
        "criterion = nn.CrossEntropyLoss()\n",
        "\n",
        "# Optimizer (Adam optimizer)\n",
        "optimizer = optim.Adam(model.parameters(), lr=0.001)\n",
        "\n",
        "# 4. Training loop\n",
        "epochs = 50  # Set the number of epochs\n",
        "\n",
        "# Move the model to GPU if available\n",
        "device = torch.device(\"cuda\" if torch.cuda.is_available() else \"cpu\")\n",
        "model.to(device)"
      ],
      "metadata": {
        "colab": {
          "base_uri": "https://localhost:8080/"
        },
        "id": "qFT11_Q1TJUa",
        "outputId": "aad10b0b-3bf5-44f6-9f11-828af2fe2f91"
      },
      "execution_count": 238,
      "outputs": [
        {
          "output_type": "execute_result",
          "data": {
            "text/plain": [
              "TextClassificationMLP(\n",
              "  (model): Sequential(\n",
              "    (0): Linear(in_features=1024, out_features=128, bias=True)\n",
              "    (1): BatchNorm1d(128, eps=1e-05, momentum=0.1, affine=True, track_running_stats=True)\n",
              "    (2): ReLU()\n",
              "    (3): Dropout(p=0.5, inplace=False)\n",
              "    (4): Linear(in_features=128, out_features=64, bias=True)\n",
              "    (5): BatchNorm1d(64, eps=1e-05, momentum=0.1, affine=True, track_running_stats=True)\n",
              "    (6): ReLU()\n",
              "    (7): Dropout(p=0.5, inplace=False)\n",
              "    (8): Linear(in_features=64, out_features=1024, bias=True)\n",
              "  )\n",
              ")"
            ]
          },
          "metadata": {},
          "execution_count": 238
        }
      ]
    },
    {
      "cell_type": "code",
      "source": [
        "def count_parameters(model):\n",
        "    return sum(p.numel() for p in model.parameters())\n",
        "\n",
        "# Print the total number of parameters\n",
        "print(f\"Total number of parameters: {count_parameters(model)}\")"
      ],
      "metadata": {
        "colab": {
          "base_uri": "https://localhost:8080/"
        },
        "id": "R1BlA8441AeH",
        "outputId": "d88f20b5-a3a6-4f94-ad3a-fcfc0137b874"
      },
      "execution_count": 239,
      "outputs": [
        {
          "output_type": "stream",
          "name": "stdout",
          "text": [
            "Total number of parameters: 206400\n"
          ]
        }
      ]
    },
    {
      "cell_type": "code",
      "source": [
        "train_losses = []\n",
        "test_losses = []"
      ],
      "metadata": {
        "id": "DVUOAAn3V8v8"
      },
      "execution_count": 240,
      "outputs": []
    },
    {
      "cell_type": "code",
      "source": [
        "for epoch in range(epochs):\n",
        "    model.train()  # Set the model to training mode\n",
        "    running_loss = 0.0\n",
        "\n",
        "    for inputs, labels in train_loader:\n",
        "        inputs, labels = inputs.to(device), labels.to(device)\n",
        "\n",
        "        # No need to unsqueeze for MLP\n",
        "        optimizer.zero_grad()\n",
        "        outputs = model(inputs)\n",
        "        loss = criterion(outputs, labels)\n",
        "        loss.backward()\n",
        "        optimizer.step()\n",
        "\n",
        "        running_loss += loss.item()\n",
        "\n",
        "    avg_train_loss = running_loss / len(train_loader)\n",
        "    train_losses.append(avg_train_loss)\n",
        "\n",
        "    # 🔁 Evaluate on test data within each epoch\n",
        "    model.eval()\n",
        "    all_preds = []\n",
        "    all_labels = []\n",
        "    test_loss = 0.0\n",
        "\n",
        "    with torch.no_grad():\n",
        "        for inputs, labels in test_loader:\n",
        "            inputs, labels = inputs.to(device), labels.to(device)\n",
        "            outputs = model(inputs)\n",
        "            loss = criterion(outputs, labels)\n",
        "            test_loss += loss.item()\n",
        "\n",
        "            _, predicted = torch.max(outputs, 1)\n",
        "            all_preds.extend(predicted.cpu().numpy())\n",
        "            all_labels.extend(labels.cpu().numpy())\n",
        "\n",
        "    avg_test_loss = test_loss / len(test_loader)\n",
        "    test_losses.append(avg_test_loss)\n",
        "\n",
        "    print(f\"Epoch [{epoch+1}/{epochs}], Train Loss: {avg_train_loss:.4f}, Test Loss: {avg_test_loss:.4f}\")\n",
        "\n",
        "\n",
        "\n",
        "\n"
      ],
      "metadata": {
        "colab": {
          "base_uri": "https://localhost:8080/"
        },
        "id": "FP57RRKMSyZO",
        "outputId": "a80c781c-4470-473c-bb5f-e98eb90c3194"
      },
      "execution_count": 241,
      "outputs": [
        {
          "output_type": "stream",
          "name": "stdout",
          "text": [
            "Epoch [1/50], Train Loss: 6.6743, Test Loss: 7.0373\n",
            "Epoch [2/50], Train Loss: 6.1559, Test Loss: 7.3039\n",
            "Epoch [3/50], Train Loss: 6.0572, Test Loss: 7.4748\n",
            "Epoch [4/50], Train Loss: 5.9915, Test Loss: 7.4951\n",
            "Epoch [5/50], Train Loss: 5.9559, Test Loss: 7.4582\n",
            "Epoch [6/50], Train Loss: 5.8862, Test Loss: 7.6645\n",
            "Epoch [7/50], Train Loss: 5.8527, Test Loss: 7.7651\n",
            "Epoch [8/50], Train Loss: 5.8290, Test Loss: 7.7717\n",
            "Epoch [9/50], Train Loss: 5.7862, Test Loss: 7.8701\n",
            "Epoch [10/50], Train Loss: 5.7748, Test Loss: 7.7706\n",
            "Epoch [11/50], Train Loss: 5.7531, Test Loss: 8.0391\n",
            "Epoch [12/50], Train Loss: 5.7184, Test Loss: 8.0358\n",
            "Epoch [13/50], Train Loss: 5.6772, Test Loss: 7.9906\n",
            "Epoch [14/50], Train Loss: 5.6432, Test Loss: 7.9263\n",
            "Epoch [15/50], Train Loss: 5.6268, Test Loss: 8.0807\n",
            "Epoch [16/50], Train Loss: 5.5893, Test Loss: 8.3790\n",
            "Epoch [17/50], Train Loss: 5.5725, Test Loss: 8.3886\n",
            "Epoch [18/50], Train Loss: 5.5181, Test Loss: 8.3282\n",
            "Epoch [19/50], Train Loss: 5.4849, Test Loss: 8.4216\n",
            "Epoch [20/50], Train Loss: 5.4804, Test Loss: 8.5636\n",
            "Epoch [21/50], Train Loss: 5.4713, Test Loss: 8.7105\n",
            "Epoch [22/50], Train Loss: 5.4204, Test Loss: 8.5380\n",
            "Epoch [23/50], Train Loss: 5.4211, Test Loss: 8.6422\n",
            "Epoch [24/50], Train Loss: 5.3843, Test Loss: 9.2534\n",
            "Epoch [25/50], Train Loss: 5.3562, Test Loss: 9.2295\n",
            "Epoch [26/50], Train Loss: 5.3518, Test Loss: 8.9220\n",
            "Epoch [27/50], Train Loss: 5.3366, Test Loss: 8.8452\n",
            "Epoch [28/50], Train Loss: 5.2955, Test Loss: 8.9696\n",
            "Epoch [29/50], Train Loss: 5.2778, Test Loss: 9.2929\n",
            "Epoch [30/50], Train Loss: 5.2561, Test Loss: 9.3950\n",
            "Epoch [31/50], Train Loss: 5.2325, Test Loss: 9.2265\n",
            "Epoch [32/50], Train Loss: 5.2024, Test Loss: 9.7055\n",
            "Epoch [33/50], Train Loss: 5.1451, Test Loss: 9.4344\n",
            "Epoch [34/50], Train Loss: 5.1713, Test Loss: 9.7035\n",
            "Epoch [35/50], Train Loss: 5.1484, Test Loss: 9.8615\n",
            "Epoch [36/50], Train Loss: 5.1497, Test Loss: 9.9423\n",
            "Epoch [37/50], Train Loss: 5.1049, Test Loss: 9.8922\n",
            "Epoch [38/50], Train Loss: 5.1019, Test Loss: 10.4116\n",
            "Epoch [39/50], Train Loss: 5.0444, Test Loss: 10.0863\n",
            "Epoch [40/50], Train Loss: 5.0512, Test Loss: 10.2801\n",
            "Epoch [41/50], Train Loss: 5.0282, Test Loss: 10.2526\n",
            "Epoch [42/50], Train Loss: 4.9929, Test Loss: 10.5900\n",
            "Epoch [43/50], Train Loss: 4.9969, Test Loss: 10.6570\n",
            "Epoch [44/50], Train Loss: 4.9899, Test Loss: 11.0836\n",
            "Epoch [45/50], Train Loss: 4.9924, Test Loss: 10.9034\n",
            "Epoch [46/50], Train Loss: 4.9261, Test Loss: 10.5945\n",
            "Epoch [47/50], Train Loss: 4.9310, Test Loss: 10.9943\n",
            "Epoch [48/50], Train Loss: 4.8744, Test Loss: 11.2843\n",
            "Epoch [49/50], Train Loss: 4.8774, Test Loss: 11.4286\n",
            "Epoch [50/50], Train Loss: 4.8409, Test Loss: 11.5060\n"
          ]
        }
      ]
    },
    {
      "cell_type": "code",
      "source": [
        "import matplotlib.pyplot as plt\n",
        "\n",
        "plt.figure(figsize=(8, 5))\n",
        "plt.plot(train_losses, label='Train Loss', marker='o', linestyle='-')\n",
        "plt.plot(test_losses, label='Test Loss', marker='x', linestyle='--')\n",
        "plt.title(\"Train vs Test Loss Over Epochs\")\n",
        "plt.xlabel(\"Epoch\")\n",
        "plt.ylabel(\"Loss\")\n",
        "plt.legend()\n",
        "plt.grid(True)\n",
        "plt.tight_layout()\n",
        "plt.show()\n"
      ],
      "metadata": {
        "colab": {
          "base_uri": "https://localhost:8080/",
          "height": 507
        },
        "id": "s6VZC3UeZBV_",
        "outputId": "d62fd315-2003-409b-df8b-319757ad0872"
      },
      "execution_count": 242,
      "outputs": [
        {
          "output_type": "display_data",
          "data": {
            "text/plain": [
              "<Figure size 800x500 with 1 Axes>"
            ],
            "image/png": "[encoded data removed]"
          },
          "metadata": {}
        }
      ]
    },
    {
      "cell_type": "code",
      "source": [
        "# Convert lists to numpy arrays for sklearn functions\n",
        "all_preds = np.array(all_preds)\n",
        "all_labels = np.array(all_labels)\n",
        "num_classes=1024\n",
        "\n",
        "precision_macro = precision_score(all_labels, all_preds, average='macro', labels=np.arange(num_classes))\n",
        "recall_macro = recall_score(all_labels, all_preds, average='macro', labels=np.arange(num_classes))\n",
        "f1_macro = f1_score(all_labels, all_preds, average='macro', labels=np.arange(num_classes))\n",
        "\n",
        "precision_weighted = precision_score(all_labels, all_preds, average='weighted', labels=np.arange(num_classes))\n",
        "recall_weighted = recall_score(all_labels, all_preds, average='weighted', labels=np.arange(num_classes))\n",
        "f1_weighted = f1_score(all_labels, all_preds, average='weighted', labels=np.arange(num_classes))\n",
        "\n",
        "accuracy = accuracy_score(all_labels, all_preds)\n",
        "\n",
        "# Print all metrics\n",
        "print(f\"Macro Average Precision: {precision_macro:.4f}\")\n",
        "print(f\"Macro Average Recall: {recall_macro:.4f}\")\n",
        "print(f\"Macro Average F1 Score: {f1_macro:.4f}\")\n",
        "\n",
        "print(f\"Weighted Average Precision: {precision_weighted:.4f}\")\n",
        "print(f\"Weighted Average Recall: {recall_weighted:.4f}\")\n",
        "print(f\"Weighted Average F1 Score: {f1_weighted:.4f}\")\n",
        "\n",
        "print(f\"Accuracy: {accuracy:.4f}\")"
      ],
      "metadata": {
        "colab": {
          "base_uri": "https://localhost:8080/"
        },
        "id": "r08NHPDsTZmx",
        "outputId": "a16ef44c-38ee-40eb-966c-d7eead4a70a1"
      },
      "execution_count": 243,
      "outputs": [
        {
          "output_type": "stream",
          "name": "stdout",
          "text": [
            "Macro Average Precision: 0.0001\n",
            "Macro Average Recall: 0.0000\n",
            "Macro Average F1 Score: 0.0001\n",
            "Weighted Average Precision: 0.0011\n",
            "Weighted Average Recall: 0.0010\n",
            "Weighted Average F1 Score: 0.0011\n",
            "Accuracy: 0.0010\n"
          ]
        },
        {
          "output_type": "stream",
          "name": "stderr",
          "text": [
            "/usr/local/lib/python3.11/dist-packages/sklearn/metrics/_classification.py:1565: UndefinedMetricWarning: Precision is ill-defined and being set to 0.0 in labels with no predicted samples. Use `zero_division` parameter to control this behavior.\n",
            "  _warn_prf(average, modifier, f\"{metric.capitalize()} is\", len(result))\n",
            "/usr/local/lib/python3.11/dist-packages/sklearn/metrics/_classification.py:1565: UndefinedMetricWarning: Recall is ill-defined and being set to 0.0 in labels with no true samples. Use `zero_division` parameter to control this behavior.\n",
            "  _warn_prf(average, modifier, f\"{metric.capitalize()} is\", len(result))\n",
            "/usr/local/lib/python3.11/dist-packages/sklearn/metrics/_classification.py:1565: UndefinedMetricWarning: F-score is ill-defined and being set to 0.0 in labels with no true nor predicted samples. Use `zero_division` parameter to control this behavior.\n",
            "  _warn_prf(average, modifier, f\"{metric.capitalize()} is\", len(result))\n",
            "/usr/local/lib/python3.11/dist-packages/sklearn/metrics/_classification.py:1565: UndefinedMetricWarning: Precision is ill-defined and being set to 0.0 in labels with no predicted samples. Use `zero_division` parameter to control this behavior.\n",
            "  _warn_prf(average, modifier, f\"{metric.capitalize()} is\", len(result))\n",
            "/usr/local/lib/python3.11/dist-packages/sklearn/metrics/_classification.py:1565: UndefinedMetricWarning: Recall is ill-defined and being set to 0.0 in labels with no true samples. Use `zero_division` parameter to control this behavior.\n",
            "  _warn_prf(average, modifier, f\"{metric.capitalize()} is\", len(result))\n",
            "/usr/local/lib/python3.11/dist-packages/sklearn/metrics/_classification.py:1565: UndefinedMetricWarning: F-score is ill-defined and being set to 0.0 in labels with no true nor predicted samples. Use `zero_division` parameter to control this behavior.\n",
            "  _warn_prf(average, modifier, f\"{metric.capitalize()} is\", len(result))\n"
          ]
        }
      ]
    },
    {
      "cell_type": "code",
      "source": [
        "# Save the model (after training)\n",
        "torch.save(model.state_dict(), \"best_lstm_model_hazard.pth\")\n"
      ],
      "metadata": {
        "id": "IzLBgQ6nTffw"
      },
      "execution_count": 190,
      "outputs": []
    },
    {
      "cell_type": "code",
      "source": [],
      "metadata": {
        "id": "hFRWn8yQiz-P"
      },
      "execution_count": null,
      "outputs": []
    }
  ]
}